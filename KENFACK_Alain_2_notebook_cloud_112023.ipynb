{
 "cells": [
  {
   "cell_type": "code",
   "execution_count": 1,
   "id": "68751059",
   "metadata": {},
   "outputs": [
    {
     "name": "stdout",
     "output_type": "stream",
     "text": [
      "Starting Spark application\n"
     ]
    },
    {
     "data": {
      "text/html": [
       "<table>\n",
       "<tr><th>ID</th><th>YARN Application ID</th><th>Kind</th><th>State</th><th>Spark UI</th><th>Driver log</th><th>User</th><th>Current session?</th></tr><tr><td>0</td><td>application_1701655161658_0001</td><td>pyspark</td><td>idle</td><td><a target=\"_blank\" href=\"http://ip-172-31-41-83.eu-west-3.compute.internal:20888/proxy/application_1701655161658_0001/\">Link</a></td><td><a target=\"_blank\" href=\"http://ip-172-31-47-36.eu-west-3.compute.internal:8042/node/containerlogs/container_1701655161658_0001_01_000001/livy\">Link</a></td><td>None</td><td>✔</td></tr></table>"
      ],
      "text/plain": [
       "<IPython.core.display.HTML object>"
      ]
     },
     "metadata": {},
     "output_type": "display_data"
    },
    {
     "data": {
      "application/vnd.jupyter.widget-view+json": {
       "model_id": "",
       "version_major": 2,
       "version_minor": 0
      },
      "text/plain": [
       "FloatProgress(value=0.0, bar_style='info', description='Progress:', layout=Layout(height='25px', width='50%'),…"
      ]
     },
     "metadata": {},
     "output_type": "display_data"
    },
    {
     "name": "stdout",
     "output_type": "stream",
     "text": [
      "SparkSession available as 'spark'.\n"
     ]
    },
    {
     "data": {
      "application/vnd.jupyter.widget-view+json": {
       "model_id": "",
       "version_major": 2,
       "version_minor": 0
      },
      "text/plain": [
       "FloatProgress(value=0.0, bar_style='info', description='Progress:', layout=Layout(height='25px', width='50%'),…"
      ]
     },
     "metadata": {},
     "output_type": "display_data"
    }
   ],
   "source": [
    "#lancer spark"
   ]
  },
  {
   "cell_type": "code",
   "execution_count": 3,
   "id": "a80f998a",
   "metadata": {},
   "outputs": [
    {
     "data": {
      "application/vnd.jupyter.widget-view+json": {
       "model_id": "",
       "version_major": 2,
       "version_minor": 0
      },
      "text/plain": [
       "FloatProgress(value=0.0, bar_style='info', description='Progress:', layout=Layout(height='25px', width='50%'),…"
      ]
     },
     "metadata": {},
     "output_type": "display_data"
    }
   ],
   "source": [
    "# Librairies pour la manipulation de données\n",
    "import pandas as pd\n",
    "from pyspark.sql.functions import col, pandas_udf, PandasUDFType, element_at, split, udf\n",
    "from pyspark.sql.types import *\n",
    "\n",
    "# Librairies pour le traitement d'images\n",
    "from PIL import Image\n",
    "import numpy as np\n",
    "import io\n",
    "import os\n",
    "from keras_preprocessing.image import img_to_array\n",
    "from pyspark.ml.image import ImageSchema\n",
    "\n",
    "# Librairies pour la visualisation\n",
    "import matplotlib.pyplot as plt\n",
    "\n",
    "# Librairies pour l'apprentissage automatique (Deep Learning)\n",
    "import tensorflow as tf\n",
    "from tensorflow import keras\n",
    "from keras import Model\n",
    "from keras.applications.mobilenet_v2 import MobileNetV2, preprocess_input\n",
    "\n",
    "# Librairies pour le traitement des données vectorielles\n",
    "from pyspark.ml.feature import PCA  \n",
    "from pyspark.ml.linalg import Vectors, VectorUDT"
   ]
  },
  {
   "cell_type": "code",
   "execution_count": 4,
   "id": "7b7ce53a",
   "metadata": {},
   "outputs": [
    {
     "data": {
      "application/vnd.jupyter.widget-view+json": {
       "model_id": "",
       "version_major": 2,
       "version_minor": 0
      },
      "text/plain": [
       "FloatProgress(value=0.0, bar_style='info', description='Progress:', layout=Layout(height='25px', width='50%'),…"
      ]
     },
     "metadata": {},
     "output_type": "display_data"
    }
   ],
   "source": [
    "# Chemin vers le répertoire des données\n",
    "PATH_Data = 's3://buckets-data/Test'\n",
    "\n",
    "# Chemin vers le répertoire des résultats\n",
    "PATH_Result = 's3://buckets-data/Results'"
   ]
  },
  {
   "cell_type": "code",
   "execution_count": 5,
   "id": "0618b8c2",
   "metadata": {},
   "outputs": [
    {
     "data": {
      "application/vnd.jupyter.widget-view+json": {
       "model_id": "",
       "version_major": 2,
       "version_minor": 0
      },
      "text/plain": [
       "FloatProgress(value=0.0, bar_style='info', description='Progress:', layout=Layout(height='25px', width='50%'),…"
      ]
     },
     "metadata": {},
     "output_type": "display_data"
    }
   ],
   "source": [
    "# Lecture des fichiers binaires (images) à partir d'un répertoire avec Spark\n",
    "images = (\n",
    "    spark  # Utilisation de la session Spark précédemment créée\n",
    "    .read  # Méthode pour lire des données dans Spark\n",
    "    .format(\"binaryFile\")  # Spécification du format des fichiers (ici, fichiers binaires)\n",
    "    .option(\"pathGlobFilter\", \"*.jpg\")  # Filtrage des fichiers pour inclure uniquement ceux avec l'extension .jpg\n",
    "    .option(\"recursiveFileLookup\", \"true\")  # Activation de la recherche récursive des fichiers dans les sous-répertoires\n",
    "    .load(PATH_Data)  # Chargement des fichiers binaires à partir du chemin spécifié (PATH_Data)\n",
    ")"
   ]
  },
  {
   "cell_type": "code",
   "execution_count": 6,
   "id": "8fa5d4b5",
   "metadata": {},
   "outputs": [
    {
     "data": {
      "application/vnd.jupyter.widget-view+json": {
       "model_id": "",
       "version_major": 2,
       "version_minor": 0
      },
      "text/plain": [
       "FloatProgress(value=0.0, bar_style='info', description='Progress:', layout=Layout(height='25px', width='50%'),…"
      ]
     },
     "metadata": {},
     "output_type": "display_data"
    },
    {
     "name": "stdout",
     "output_type": "stream",
     "text": [
      "+--------------------+-------------------+------+--------------------+\n",
      "|                path|   modificationTime|length|             content|\n",
      "+--------------------+-------------------+------+--------------------+\n",
      "|s3://buckets-data...|2023-12-01 22:27:14| 78796|[FF D8 FF E0 00 1...|\n",
      "|s3://buckets-data...|2023-12-01 22:27:14| 78179|[FF D8 FF E0 00 1...|\n",
      "|s3://buckets-data...|2023-12-01 22:27:14| 78142|[FF D8 FF E0 00 1...|\n",
      "|s3://buckets-data...|2023-12-01 22:27:14| 78115|[FF D8 FF E0 00 1...|\n",
      "|s3://buckets-data...|2023-12-01 22:27:14| 77820|[FF D8 FF E0 00 1...|\n",
      "|s3://buckets-data...|2023-12-01 22:27:14| 77580|[FF D8 FF E0 00 1...|\n",
      "|s3://buckets-data...|2023-12-01 22:27:14| 77527|[FF D8 FF E0 00 1...|\n",
      "|s3://buckets-data...|2023-12-01 22:27:13| 77515|[FF D8 FF E0 00 1...|\n",
      "|s3://buckets-data...|2023-12-01 22:27:14| 77506|[FF D8 FF E0 00 1...|\n",
      "|s3://buckets-data...|2023-12-01 22:27:14| 77421|[FF D8 FF E0 00 1...|\n",
      "|s3://buckets-data...|2023-12-01 22:27:14| 77205|[FF D8 FF E0 00 1...|\n",
      "|s3://buckets-data...|2023-12-01 22:27:14| 77152|[FF D8 FF E0 00 1...|\n",
      "|s3://buckets-data...|2023-12-01 22:27:14| 77084|[FF D8 FF E0 00 1...|\n",
      "|s3://buckets-data...|2023-12-01 22:27:14| 76905|[FF D8 FF E0 00 1...|\n",
      "|s3://buckets-data...|2023-12-01 22:27:14| 76851|[FF D8 FF E0 00 1...|\n",
      "|s3://buckets-data...|2023-12-01 22:27:14| 76800|[FF D8 FF E0 00 1...|\n",
      "|s3://buckets-data...|2023-12-01 22:27:14| 76762|[FF D8 FF E0 00 1...|\n",
      "|s3://buckets-data...|2023-12-01 22:27:14| 76753|[FF D8 FF E0 00 1...|\n",
      "|s3://buckets-data...|2023-12-01 22:27:14| 76625|[FF D8 FF E0 00 1...|\n",
      "|s3://buckets-data...|2023-12-01 22:27:14| 76603|[FF D8 FF E0 00 1...|\n",
      "+--------------------+-------------------+------+--------------------+\n",
      "only showing top 20 rows"
     ]
    }
   ],
   "source": [
    "# Visualisation\n",
    "images.show()"
   ]
  },
  {
   "cell_type": "code",
   "execution_count": 7,
   "id": "2b1dc417",
   "metadata": {},
   "outputs": [
    {
     "data": {
      "application/vnd.jupyter.widget-view+json": {
       "model_id": "",
       "version_major": 2,
       "version_minor": 0
      },
      "text/plain": [
       "FloatProgress(value=0.0, bar_style='info', description='Progress:', layout=Layout(height='25px', width='50%'),…"
      ]
     },
     "metadata": {},
     "output_type": "display_data"
    },
    {
     "name": "stdout",
     "output_type": "stream",
     "text": [
      "root\n",
      " |-- path: string (nullable = true)\n",
      " |-- modificationTime: timestamp (nullable = true)\n",
      " |-- length: long (nullable = true)\n",
      " |-- content: binary (nullable = true)\n",
      " |-- label: string (nullable = true)\n",
      "\n",
      "None\n",
      "+----------------------------------------+------+\n",
      "|path                                    |label |\n",
      "+----------------------------------------+------+\n",
      "|s3://buckets-data/Test/pear_3/r0_148.jpg|pear_3|\n",
      "|s3://buckets-data/Test/pear_3/r0_146.jpg|pear_3|\n",
      "|s3://buckets-data/Test/pear_3/r0_142.jpg|pear_3|\n",
      "|s3://buckets-data/Test/pear_3/r0_132.jpg|pear_3|\n",
      "|s3://buckets-data/Test/pear_3/r0_134.jpg|pear_3|\n",
      "|s3://buckets-data/Test/pear_3/r0_194.jpg|pear_3|\n",
      "+----------------------------------------+------+\n",
      "only showing top 6 rows\n",
      "\n",
      "None"
     ]
    }
   ],
   "source": [
    "# Ajout d'une colonne 'label' au DataFrame 'images'\n",
    "images = images.withColumn('label', element_at(split(images['path'], '/'), -2))\n",
    "\n",
    "# Impression du schéma du DataFrame 'images'\n",
    "print(images.printSchema())\n",
    "\n",
    "# Sélection des colonnes 'path' et 'label' et affichage des six premières lignes\n",
    "print(images.select('path', 'label').show(6, False))"
   ]
  },
  {
   "cell_type": "code",
   "execution_count": 8,
   "id": "8d7a9963",
   "metadata": {},
   "outputs": [
    {
     "data": {
      "application/vnd.jupyter.widget-view+json": {
       "model_id": "",
       "version_major": 2,
       "version_minor": 0
      },
      "text/plain": [
       "FloatProgress(value=0.0, bar_style='info', description='Progress:', layout=Layout(height='25px', width='50%'),…"
      ]
     },
     "metadata": {},
     "output_type": "display_data"
    },
    {
     "name": "stdout",
     "output_type": "stream",
     "text": [
      "Downloading data from https://storage.googleapis.com/tensorflow/keras-applications/mobilenet_v2/mobilenet_v2_weights_tf_dim_ordering_tf_kernels_1.0_224.h5\n",
      "14536120/14536120 [==============================] - 1s 0us/step"
     ]
    }
   ],
   "source": [
    "# Chargement du modèle MobileNetV2 pré-entraîné sur ImageNet\n",
    "# Le paramètre 'weights' spécifie que les poids pré-entraînés sur le jeu de données ImageNet doivent être utilisés.\n",
    "# Le paramètre 'include_top' indique si les couches fully connected (FC) situées au sommet du réseau doivent être incluses.\n",
    "# Le paramètre 'input_shape' définit la forme attendue de l'entrée du modèle.\n",
    "model = MobileNetV2(weights='imagenet',\n",
    "                    include_top=True,\n",
    "                    input_shape=(224, 224, 3))\n",
    "\n",
    "# Création d'un nouveau modèle en excluant la dernière couche fully connected (FC)\n",
    "# Cela permet d'obtenir un modèle sans la couche de prédiction d'ImageNet.\n",
    "new_model = Model(inputs=model.input,           \n",
    "                  outputs=model.layers[-2].output)"
   ]
  },
  {
   "cell_type": "code",
   "execution_count": 9,
   "id": "6c070f8c",
   "metadata": {},
   "outputs": [
    {
     "data": {
      "application/vnd.jupyter.widget-view+json": {
       "model_id": "",
       "version_major": 2,
       "version_minor": 0
      },
      "text/plain": [
       "FloatProgress(value=0.0, bar_style='info', description='Progress:', layout=Layout(height='25px', width='50%'),…"
      ]
     },
     "metadata": {},
     "output_type": "display_data"
    },
    {
     "name": "stdout",
     "output_type": "stream",
     "text": [
      "Model: \"model\"\n",
      "__________________________________________________________________________________________________\n",
      " Layer (type)                   Output Shape         Param #     Connected to                     \n",
      "==================================================================================================\n",
      " input_1 (InputLayer)           [(None, 224, 224, 3  0           []                               \n",
      "                                )]                                                                \n",
      "                                                                                                  \n",
      " Conv1 (Conv2D)                 (None, 112, 112, 32  864         ['input_1[0][0]']                \n",
      "                                )                                                                 \n",
      "                                                                                                  \n",
      " bn_Conv1 (BatchNormalization)  (None, 112, 112, 32  128         ['Conv1[0][0]']                  \n",
      "                                )                                                                 \n",
      "                                                                                                  \n",
      " Conv1_relu (ReLU)              (None, 112, 112, 32  0           ['bn_Conv1[0][0]']               \n",
      "                                )                                                                 \n",
      "                                                                                                  \n",
      " expanded_conv_depthwise (Depth  (None, 112, 112, 32  288        ['Conv1_relu[0][0]']             \n",
      " wiseConv2D)                    )                                                                 \n",
      "                                                                                                  \n",
      " expanded_conv_depthwise_BN (Ba  (None, 112, 112, 32  128        ['expanded_conv_depthwise[0][0]']\n",
      " tchNormalization)              )                                                                 \n",
      "                                                                                                  \n",
      " expanded_conv_depthwise_relu (  (None, 112, 112, 32  0          ['expanded_conv_depthwise_BN[0][0\n",
      " ReLU)                          )                                ]']                              \n",
      "                                                                                                  \n",
      " expanded_conv_project (Conv2D)  (None, 112, 112, 16  512        ['expanded_conv_depthwise_relu[0]\n",
      "                                )                                [0]']                            \n",
      "                                                                                                  \n",
      " expanded_conv_project_BN (Batc  (None, 112, 112, 16  64         ['expanded_conv_project[0][0]']  \n",
      " hNormalization)                )                                                                 \n",
      "                                                                                                  \n",
      " block_1_expand (Conv2D)        (None, 112, 112, 96  1536        ['expanded_conv_project_BN[0][0]'\n",
      "                                )                                ]                                \n",
      "                                                                                                  \n",
      " block_1_expand_BN (BatchNormal  (None, 112, 112, 96  384        ['block_1_expand[0][0]']         \n",
      " ization)                       )                                                                 \n",
      "                                                                                                  \n",
      " block_1_expand_relu (ReLU)     (None, 112, 112, 96  0           ['block_1_expand_BN[0][0]']      \n",
      "                                )                                                                 \n",
      "                                                                                                  \n",
      " block_1_pad (ZeroPadding2D)    (None, 113, 113, 96  0           ['block_1_expand_relu[0][0]']    \n",
      "                                )                                                                 \n",
      "                                                                                                  \n",
      " block_1_depthwise (DepthwiseCo  (None, 56, 56, 96)  864         ['block_1_pad[0][0]']            \n",
      " nv2D)                                                                                            \n",
      "                                                                                                  \n",
      " block_1_depthwise_BN (BatchNor  (None, 56, 56, 96)  384         ['block_1_depthwise[0][0]']      \n",
      " malization)                                                                                      \n",
      "                                                                                                  \n",
      " block_1_depthwise_relu (ReLU)  (None, 56, 56, 96)   0           ['block_1_depthwise_BN[0][0]']   \n",
      "                                                                                                  \n",
      " block_1_project (Conv2D)       (None, 56, 56, 24)   2304        ['block_1_depthwise_relu[0][0]'] \n",
      "                                                                                                  \n",
      " block_1_project_BN (BatchNorma  (None, 56, 56, 24)  96          ['block_1_project[0][0]']        \n",
      " lization)                                                                                        \n",
      "                                                                                                  \n",
      " block_2_expand (Conv2D)        (None, 56, 56, 144)  3456        ['block_1_project_BN[0][0]']     \n",
      "                                                                                                  \n",
      " block_2_expand_BN (BatchNormal  (None, 56, 56, 144)  576        ['block_2_expand[0][0]']         \n",
      " ization)                                                                                         \n",
      "                                                                                                  \n",
      " block_2_expand_relu (ReLU)     (None, 56, 56, 144)  0           ['block_2_expand_BN[0][0]']      \n",
      "                                                                                                  \n",
      " block_2_depthwise (DepthwiseCo  (None, 56, 56, 144)  1296       ['block_2_expand_relu[0][0]']    \n",
      " nv2D)                                                                                            \n",
      "                                                                                                  \n",
      " block_2_depthwise_BN (BatchNor  (None, 56, 56, 144)  576        ['block_2_depthwise[0][0]']      \n",
      " malization)                                                                                      \n",
      "                                                                                                  \n",
      " block_2_depthwise_relu (ReLU)  (None, 56, 56, 144)  0           ['block_2_depthwise_BN[0][0]']   \n",
      "                                                                                                  \n",
      " block_2_project (Conv2D)       (None, 56, 56, 24)   3456        ['block_2_depthwise_relu[0][0]'] \n",
      "                                                                                                  \n",
      " block_2_project_BN (BatchNorma  (None, 56, 56, 24)  96          ['block_2_project[0][0]']        \n",
      " lization)                                                                                        \n",
      "                                                                                                  \n",
      " block_2_add (Add)              (None, 56, 56, 24)   0           ['block_1_project_BN[0][0]',     \n",
      "                                                                  'block_2_project_BN[0][0]']     \n",
      "                                                                                                  \n",
      " block_3_expand (Conv2D)        (None, 56, 56, 144)  3456        ['block_2_add[0][0]']            \n",
      "                                                                                                  \n",
      " block_3_expand_BN (BatchNormal  (None, 56, 56, 144)  576        ['block_3_expand[0][0]']         \n",
      " ization)                                                                                         \n",
      "                                                                                                  \n",
      " block_3_expand_relu (ReLU)     (None, 56, 56, 144)  0           ['block_3_expand_BN[0][0]']      \n",
      "                                                                                                  \n",
      " block_3_pad (ZeroPadding2D)    (None, 57, 57, 144)  0           ['block_3_expand_relu[0][0]']    \n",
      "                                                                                                  \n",
      " block_3_depthwise (DepthwiseCo  (None, 28, 28, 144)  1296       ['block_3_pad[0][0]']            \n",
      " nv2D)                                                                                            \n",
      "                                                                                                  \n",
      " block_3_depthwise_BN (BatchNor  (None, 28, 28, 144)  576        ['block_3_depthwise[0][0]']      \n",
      " malization)                                                                                      \n",
      "                                                                                                  \n",
      " block_3_depthwise_relu (ReLU)  (None, 28, 28, 144)  0           ['block_3_depthwise_BN[0][0]']   \n",
      "                                                                                                  \n",
      " block_3_project (Conv2D)       (None, 28, 28, 32)   4608        ['block_3_depthwise_relu[0][0]'] \n",
      "                                                                                                  \n",
      " block_3_project_BN (BatchNorma  (None, 28, 28, 32)  128         ['block_3_project[0][0]']        \n",
      " lization)                                                                                        \n",
      "                                                                                                  \n",
      " block_4_expand (Conv2D)        (None, 28, 28, 192)  6144        ['block_3_project_BN[0][0]']     \n",
      "                                                                                                  \n",
      " block_4_expand_BN (BatchNormal  (None, 28, 28, 192)  768        ['block_4_expand[0][0]']         \n",
      " ization)                                                                                         \n",
      "                                                                                                  \n",
      " block_4_expand_relu (ReLU)     (None, 28, 28, 192)  0           ['block_4_expand_BN[0][0]']      \n",
      "                                                                                                  \n",
      " block_4_depthwise (DepthwiseCo  (None, 28, 28, 192)  1728       ['block_4_expand_relu[0][0]']    \n",
      " nv2D)                                                                                            \n",
      "                                                                                                  \n",
      " block_4_depthwise_BN (BatchNor  (None, 28, 28, 192)  768        ['block_4_depthwise[0][0]']      \n",
      " malization)                                                                                      \n",
      "                                                                                                  \n",
      " block_4_depthwise_relu (ReLU)  (None, 28, 28, 192)  0           ['block_4_depthwise_BN[0][0]']   \n",
      "                                                                                                  \n",
      " block_4_project (Conv2D)       (None, 28, 28, 32)   6144        ['block_4_depthwise_relu[0][0]'] \n",
      "                                                                                                  \n",
      " block_4_project_BN (BatchNorma  (None, 28, 28, 32)  128         ['block_4_project[0][0]']        \n",
      " lization)                                                                                        \n",
      "                                                                                                  \n",
      " block_4_add (Add)              (None, 28, 28, 32)   0           ['block_3_project_BN[0][0]',     \n",
      "                                                                  'block_4_project_BN[0][0]']     \n",
      "                                                                                                  \n",
      " block_5_expand (Conv2D)        (None, 28, 28, 192)  6144        ['block_4_add[0][0]']            \n",
      "                                                                                                  \n",
      " block_5_expand_BN (BatchNormal  (None, 28, 28, 192)  768        ['block_5_expand[0][0]']         \n",
      " ization)                                                                                         \n",
      "                                                                                                  \n",
      " block_5_expand_relu (ReLU)     (None, 28, 28, 192)  0           ['block_5_expand_BN[0][0]']      \n",
      "                                                                                                  \n",
      " block_5_depthwise (DepthwiseCo  (None, 28, 28, 192)  1728       ['block_5_expand_relu[0][0]']    \n",
      " nv2D)                                                                                            \n",
      "                                                                                                  \n",
      " block_5_depthwise_BN (BatchNor  (None, 28, 28, 192)  768        ['block_5_depthwise[0][0]']      \n",
      " malization)                                                                                      \n",
      "                                                                                                  \n",
      " block_5_depthwise_relu (ReLU)  (None, 28, 28, 192)  0           ['block_5_depthwise_BN[0][0]']   \n",
      "                                                                                                  \n",
      " block_5_project (Conv2D)       (None, 28, 28, 32)   6144        ['block_5_depthwise_relu[0][0]'] \n",
      "                                                                                                  \n",
      " block_5_project_BN (BatchNorma  (None, 28, 28, 32)  128         ['block_5_project[0][0]']        \n",
      " lization)                                                                                        \n",
      "                                                                                                  \n",
      " block_5_add (Add)              (None, 28, 28, 32)   0           ['block_4_add[0][0]',            \n",
      "                                                                  'block_5_project_BN[0][0]']     \n",
      "                                                                                                  \n",
      " block_6_expand (Conv2D)        (None, 28, 28, 192)  6144        ['block_5_add[0][0]']            \n",
      "                                                                                                  \n",
      " block_6_expand_BN (BatchNormal  (None, 28, 28, 192)  768        ['block_6_expand[0][0]']         \n",
      " ization)                                                                                         \n",
      "                                                                                                  \n",
      " block_6_expand_relu (ReLU)     (None, 28, 28, 192)  0           ['block_6_expand_BN[0][0]']      \n",
      "                                                                                                  \n",
      " block_6_pad (ZeroPadding2D)    (None, 29, 29, 192)  0           ['block_6_expand_relu[0][0]']    \n",
      "                                                                                                  \n",
      " block_6_depthwise (DepthwiseCo  (None, 14, 14, 192)  1728       ['block_6_pad[0][0]']            \n",
      " nv2D)                                                                                            \n",
      "                                                                                                  \n",
      " block_6_depthwise_BN (BatchNor  (None, 14, 14, 192)  768        ['block_6_depthwise[0][0]']      \n",
      " malization)                                                                                      \n",
      "                                                                                                  \n",
      " block_6_depthwise_relu (ReLU)  (None, 14, 14, 192)  0           ['block_6_depthwise_BN[0][0]']   \n",
      "                                                                                                  \n",
      " block_6_project (Conv2D)       (None, 14, 14, 64)   12288       ['block_6_depthwise_relu[0][0]'] \n",
      "                                                                                                  \n",
      " block_6_project_BN (BatchNorma  (None, 14, 14, 64)  256         ['block_6_project[0][0]']        \n",
      " lization)                                                                                        \n",
      "                                                                                                  \n",
      " block_7_expand (Conv2D)        (None, 14, 14, 384)  24576       ['block_6_project_BN[0][0]']     \n",
      "                                                                                                  \n",
      " block_7_expand_BN (BatchNormal  (None, 14, 14, 384)  1536       ['block_7_expand[0][0]']         \n",
      " ization)                                                                                         \n",
      "                                                                                                  \n",
      " block_7_expand_relu (ReLU)     (None, 14, 14, 384)  0           ['block_7_expand_BN[0][0]']      \n",
      "                                                                                                  \n",
      " block_7_depthwise (DepthwiseCo  (None, 14, 14, 384)  3456       ['block_7_expand_relu[0][0]']    \n",
      " nv2D)                                                                                            \n",
      "                                                                                                  \n",
      " block_7_depthwise_BN (BatchNor  (None, 14, 14, 384)  1536       ['block_7_depthwise[0][0]']      \n",
      " malization)                                                                                      \n",
      "                                                                                                  \n",
      " block_7_depthwise_relu (ReLU)  (None, 14, 14, 384)  0           ['block_7_depthwise_BN[0][0]']   \n",
      "                                                                                                  \n",
      " block_7_project (Conv2D)       (None, 14, 14, 64)   24576       ['block_7_depthwise_relu[0][0]'] \n",
      "                                                                                                  \n",
      " block_7_project_BN (BatchNorma  (None, 14, 14, 64)  256         ['block_7_project[0][0]']        \n",
      " lization)                                                                                        \n",
      "                                                                                                  \n",
      " block_7_add (Add)              (None, 14, 14, 64)   0           ['block_6_project_BN[0][0]',     \n",
      "                                                                  'block_7_project_BN[0][0]']     \n",
      "                                                                                                  \n",
      " block_8_expand (Conv2D)        (None, 14, 14, 384)  24576       ['block_7_add[0][0]']            \n",
      "                                                                                                  \n",
      " block_8_expand_BN (BatchNormal  (None, 14, 14, 384)  1536       ['block_8_expand[0][0]']         \n",
      " ization)                                                                                         \n",
      "                                                                                                  \n",
      " block_8_expand_relu (ReLU)     (None, 14, 14, 384)  0           ['block_8_expand_BN[0][0]']      \n",
      "                                                                                                  \n",
      " block_8_depthwise (DepthwiseCo  (None, 14, 14, 384)  3456       ['block_8_expand_relu[0][0]']    \n",
      " nv2D)                                                                                            \n",
      "                                                                                                  \n",
      " block_8_depthwise_BN (BatchNor  (None, 14, 14, 384)  1536       ['block_8_depthwise[0][0]']      \n",
      " malization)                                                                                      \n",
      "                                                                                                  \n",
      " block_8_depthwise_relu (ReLU)  (None, 14, 14, 384)  0           ['block_8_depthwise_BN[0][0]']   \n",
      "                                                                                                  \n",
      " block_8_project (Conv2D)       (None, 14, 14, 64)   24576       ['block_8_depthwise_relu[0][0]'] \n",
      "                                                                                                  \n",
      " block_8_project_BN (BatchNorma  (None, 14, 14, 64)  256         ['block_8_project[0][0]']        \n",
      " lization)                                                                                        \n",
      "                                                                                                  \n",
      " block_8_add (Add)              (None, 14, 14, 64)   0           ['block_7_add[0][0]',            \n",
      "                                                                  'block_8_project_BN[0][0]']     \n",
      "                                                                                                  \n",
      " block_9_expand (Conv2D)        (None, 14, 14, 384)  24576       ['block_8_add[0][0]']            \n",
      "                                                                                                  \n",
      " block_9_expand_BN (BatchNormal  (None, 14, 14, 384)  1536       ['block_9_expand[0][0]']         \n",
      " ization)                                                                                         \n",
      "                                                                                                  \n",
      " block_9_expand_relu (ReLU)     (None, 14, 14, 384)  0           ['block_9_expand_BN[0][0]']      \n",
      "                                                                                                  \n",
      " block_9_depthwise (DepthwiseCo  (None, 14, 14, 384)  3456       ['block_9_expand_relu[0][0]']    \n",
      " nv2D)                                                                                            \n",
      "                                                                                                  \n",
      " block_9_depthwise_BN (BatchNor  (None, 14, 14, 384)  1536       ['block_9_depthwise[0][0]']      \n",
      " malization)                                                                                      \n",
      "                                                                                                  \n",
      " block_9_depthwise_relu (ReLU)  (None, 14, 14, 384)  0           ['block_9_depthwise_BN[0][0]']   \n",
      "                                                                                                  \n",
      " block_9_project (Conv2D)       (None, 14, 14, 64)   24576       ['block_9_depthwise_relu[0][0]'] \n",
      "                                                                                                  \n",
      " block_9_project_BN (BatchNorma  (None, 14, 14, 64)  256         ['block_9_project[0][0]']        \n",
      " lization)                                                                                        \n",
      "                                                                                                  \n",
      " block_9_add (Add)              (None, 14, 14, 64)   0           ['block_8_add[0][0]',            \n",
      "                                                                  'block_9_project_BN[0][0]']     \n",
      "                                                                                                  \n",
      " block_10_expand (Conv2D)       (None, 14, 14, 384)  24576       ['block_9_add[0][0]']            \n",
      "                                                                                                  \n",
      " block_10_expand_BN (BatchNorma  (None, 14, 14, 384)  1536       ['block_10_expand[0][0]']        \n",
      " lization)                                                                                        \n",
      "                                                                                                  \n",
      " block_10_expand_relu (ReLU)    (None, 14, 14, 384)  0           ['block_10_expand_BN[0][0]']     \n",
      "                                                                                                  \n",
      " block_10_depthwise (DepthwiseC  (None, 14, 14, 384)  3456       ['block_10_expand_relu[0][0]']   \n",
      " onv2D)                                                                                           \n",
      "                                                                                                  \n",
      " block_10_depthwise_BN (BatchNo  (None, 14, 14, 384)  1536       ['block_10_depthwise[0][0]']     \n",
      " rmalization)                                                                                     \n",
      "                                                                                                  \n",
      " block_10_depthwise_relu (ReLU)  (None, 14, 14, 384)  0          ['block_10_depthwise_BN[0][0]']  \n",
      "                                                                                                  \n",
      " block_10_project (Conv2D)      (None, 14, 14, 96)   36864       ['block_10_depthwise_relu[0][0]']\n",
      "                                                                                                  \n",
      " block_10_project_BN (BatchNorm  (None, 14, 14, 96)  384         ['block_10_project[0][0]']       \n",
      " alization)                                                                                       \n",
      "                                                                                                  \n",
      " block_11_expand (Conv2D)       (None, 14, 14, 576)  55296       ['block_10_project_BN[0][0]']    \n",
      "                                                                                                  \n",
      " block_11_expand_BN (BatchNorma  (None, 14, 14, 576)  2304       ['block_11_expand[0][0]']        \n",
      " lization)                                                                                        \n",
      "                                                                                                  \n",
      " block_11_expand_relu (ReLU)    (None, 14, 14, 576)  0           ['block_11_expand_BN[0][0]']     \n",
      "                                                                                                  \n",
      " block_11_depthwise (DepthwiseC  (None, 14, 14, 576)  5184       ['block_11_expand_relu[0][0]']   \n",
      " onv2D)                                                                                           \n",
      "                                                                                                  \n",
      " block_11_depthwise_BN (BatchNo  (None, 14, 14, 576)  2304       ['block_11_depthwise[0][0]']     \n",
      " rmalization)                                                                                     \n",
      "                                                                                                  \n",
      " block_11_depthwise_relu (ReLU)  (None, 14, 14, 576)  0          ['block_11_depthwise_BN[0][0]']  \n",
      "                                                                                                  \n",
      " block_11_project (Conv2D)      (None, 14, 14, 96)   55296       ['block_11_depthwise_relu[0][0]']\n",
      "                                                                                                  \n",
      " block_11_project_BN (BatchNorm  (None, 14, 14, 96)  384         ['block_11_project[0][0]']       \n",
      " alization)                                                                                       \n",
      "                                                                                                  \n",
      " block_11_add (Add)             (None, 14, 14, 96)   0           ['block_10_project_BN[0][0]',    \n",
      "                                                                  'block_11_project_BN[0][0]']    \n",
      "                                                                                                  \n",
      " block_12_expand (Conv2D)       (None, 14, 14, 576)  55296       ['block_11_add[0][0]']           \n",
      "                                                                                                  \n",
      " block_12_expand_BN (BatchNorma  (None, 14, 14, 576)  2304       ['block_12_expand[0][0]']        \n",
      " lization)                                                                                        \n",
      "                                                                                                  \n",
      " block_12_expand_relu (ReLU)    (None, 14, 14, 576)  0           ['block_12_expand_BN[0][0]']     \n",
      "                                                                                                  \n",
      " block_12_depthwise (DepthwiseC  (None, 14, 14, 576)  5184       ['block_12_expand_relu[0][0]']   \n",
      " onv2D)                                                                                           \n",
      "                                                                                                  \n",
      " block_12_depthwise_BN (BatchNo  (None, 14, 14, 576)  2304       ['block_12_depthwise[0][0]']     \n",
      " rmalization)                                                                                     \n",
      "                                                                                                  \n",
      " block_12_depthwise_relu (ReLU)  (None, 14, 14, 576)  0          ['block_12_depthwise_BN[0][0]']  \n",
      "                                                                                                  \n",
      " block_12_project (Conv2D)      (None, 14, 14, 96)   55296       ['block_12_depthwise_relu[0][0]']\n",
      "                                                                                                  \n",
      " block_12_project_BN (BatchNorm  (None, 14, 14, 96)  384         ['block_12_project[0][0]']       \n",
      " alization)                                                                                       \n",
      "                                                                                                  \n",
      " block_12_add (Add)             (None, 14, 14, 96)   0           ['block_11_add[0][0]',           \n",
      "                                                                  'block_12_project_BN[0][0]']    \n",
      "                                                                                                  \n",
      " block_13_expand (Conv2D)       (None, 14, 14, 576)  55296       ['block_12_add[0][0]']           \n",
      "                                                                                                  \n",
      " block_13_expand_BN (BatchNorma  (None, 14, 14, 576)  2304       ['block_13_expand[0][0]']        \n",
      " lization)                                                                                        \n",
      "                                                                                                  \n",
      " block_13_expand_relu (ReLU)    (None, 14, 14, 576)  0           ['block_13_expand_BN[0][0]']     \n",
      "                                                                                                  \n",
      " block_13_pad (ZeroPadding2D)   (None, 15, 15, 576)  0           ['block_13_expand_relu[0][0]']   \n",
      "                                                                                                  \n",
      " block_13_depthwise (DepthwiseC  (None, 7, 7, 576)   5184        ['block_13_pad[0][0]']           \n",
      " onv2D)                                                                                           \n",
      "                                                                                                  \n",
      " block_13_depthwise_BN (BatchNo  (None, 7, 7, 576)   2304        ['block_13_depthwise[0][0]']     \n",
      " rmalization)                                                                                     \n",
      "                                                                                                  \n",
      " block_13_depthwise_relu (ReLU)  (None, 7, 7, 576)   0           ['block_13_depthwise_BN[0][0]']  \n",
      "                                                                                                  \n",
      " block_13_project (Conv2D)      (None, 7, 7, 160)    92160       ['block_13_depthwise_relu[0][0]']\n",
      "                                                                                                  \n",
      " block_13_project_BN (BatchNorm  (None, 7, 7, 160)   640         ['block_13_project[0][0]']       \n",
      " alization)                                                                                       \n",
      "                                                                                                  \n",
      " block_14_expand (Conv2D)       (None, 7, 7, 960)    153600      ['block_13_project_BN[0][0]']    \n",
      "                                                                                                  \n",
      " block_14_expand_BN (BatchNorma  (None, 7, 7, 960)   3840        ['block_14_expand[0][0]']        \n",
      " lization)                                                                                        \n",
      "                                                                                                  \n",
      " block_14_expand_relu (ReLU)    (None, 7, 7, 960)    0           ['block_14_expand_BN[0][0]']     \n",
      "                                                                                                  \n",
      " block_14_depthwise (DepthwiseC  (None, 7, 7, 960)   8640        ['block_14_expand_relu[0][0]']   \n",
      " onv2D)                                                                                           \n",
      "                                                                                                  \n",
      " block_14_depthwise_BN (BatchNo  (None, 7, 7, 960)   3840        ['block_14_depthwise[0][0]']     \n",
      " rmalization)                                                                                     \n",
      "                                                                                                  \n",
      " block_14_depthwise_relu (ReLU)  (None, 7, 7, 960)   0           ['block_14_depthwise_BN[0][0]']  \n",
      "                                                                                                  \n",
      " block_14_project (Conv2D)      (None, 7, 7, 160)    153600      ['block_14_depthwise_relu[0][0]']\n",
      "                                                                                                  \n",
      " block_14_project_BN (BatchNorm  (None, 7, 7, 160)   640         ['block_14_project[0][0]']       \n",
      " alization)                                                                                       \n",
      "                                                                                                  \n",
      " block_14_add (Add)             (None, 7, 7, 160)    0           ['block_13_project_BN[0][0]',    \n",
      "                                                                  'block_14_project_BN[0][0]']    \n",
      "                                                                                                  \n",
      " block_15_expand (Conv2D)       (None, 7, 7, 960)    153600      ['block_14_add[0][0]']           \n",
      "                                                                                                  \n",
      " block_15_expand_BN (BatchNorma  (None, 7, 7, 960)   3840        ['block_15_expand[0][0]']        \n",
      " lization)                                                                                        \n",
      "                                                                                                  \n",
      " block_15_expand_relu (ReLU)    (None, 7, 7, 960)    0           ['block_15_expand_BN[0][0]']     \n",
      "                                                                                                  \n",
      " block_15_depthwise (DepthwiseC  (None, 7, 7, 960)   8640        ['block_15_expand_relu[0][0]']   \n",
      " onv2D)                                                                                           \n",
      "                                                                                                  \n",
      " block_15_depthwise_BN (BatchNo  (None, 7, 7, 960)   3840        ['block_15_depthwise[0][0]']     \n",
      " rmalization)                                                                                     \n",
      "                                                                                                  \n",
      " block_15_depthwise_relu (ReLU)  (None, 7, 7, 960)   0           ['block_15_depthwise_BN[0][0]']  \n",
      "                                                                                                  \n",
      " block_15_project (Conv2D)      (None, 7, 7, 160)    153600      ['block_15_depthwise_relu[0][0]']\n",
      "                                                                                                  \n",
      " block_15_project_BN (BatchNorm  (None, 7, 7, 160)   640         ['block_15_project[0][0]']       \n",
      " alization)                                                                                       \n",
      "                                                                                                  \n",
      " block_15_add (Add)             (None, 7, 7, 160)    0           ['block_14_add[0][0]',           \n",
      "                                                                  'block_15_project_BN[0][0]']    \n",
      "                                                                                                  \n",
      " block_16_expand (Conv2D)       (None, 7, 7, 960)    153600      ['block_15_add[0][0]']           \n",
      "                                                                                                  \n",
      " block_16_expand_BN (BatchNorma  (None, 7, 7, 960)   3840        ['block_16_expand[0][0]']        \n",
      " lization)                                                                                        \n",
      "                                                                                                  \n",
      " block_16_expand_relu (ReLU)    (None, 7, 7, 960)    0           ['block_16_expand_BN[0][0]']     \n",
      "                                                                                                  \n",
      " block_16_depthwise (DepthwiseC  (None, 7, 7, 960)   8640        ['block_16_expand_relu[0][0]']   \n",
      " onv2D)                                                                                           \n",
      "                                                                                                  \n",
      " block_16_depthwise_BN (BatchNo  (None, 7, 7, 960)   3840        ['block_16_depthwise[0][0]']     \n",
      " rmalization)                                                                                     \n",
      "                                                                                                  \n",
      " block_16_depthwise_relu (ReLU)  (None, 7, 7, 960)   0           ['block_16_depthwise_BN[0][0]']  \n",
      "                                                                                                  \n",
      " block_16_project (Conv2D)      (None, 7, 7, 320)    307200      ['block_16_depthwise_relu[0][0]']\n",
      "                                                                                                  \n",
      " block_16_project_BN (BatchNorm  (None, 7, 7, 320)   1280        ['block_16_project[0][0]']       \n",
      " alization)                                                                                       \n",
      "                                                                                                  \n",
      " Conv_1 (Conv2D)                (None, 7, 7, 1280)   409600      ['block_16_project_BN[0][0]']    \n",
      "                                                                                                  \n",
      " Conv_1_bn (BatchNormalization)  (None, 7, 7, 1280)  5120        ['Conv_1[0][0]']                 \n",
      "                                                                                                  \n",
      " out_relu (ReLU)                (None, 7, 7, 1280)   0           ['Conv_1_bn[0][0]']              \n",
      "                                                                                                  \n",
      " global_average_pooling2d (Glob  (None, 1280)        0           ['out_relu[0][0]']               \n",
      " alAveragePooling2D)                                                                              \n",
      "                                                                                                  \n",
      "==================================================================================================\n",
      "Total params: 2,257,984\n",
      "Trainable params: 2,223,872\n",
      "Non-trainable params: 34,112\n",
      "__________________________________________________________________________________________________"
     ]
    }
   ],
   "source": [
    "# Affichage du résumé du nouveau modèle \n",
    "new_model.summary()"
   ]
  },
  {
   "cell_type": "code",
   "execution_count": 10,
   "id": "6b2840fe",
   "metadata": {},
   "outputs": [
    {
     "data": {
      "application/vnd.jupyter.widget-view+json": {
       "model_id": "",
       "version_major": 2,
       "version_minor": 0
      },
      "text/plain": [
       "FloatProgress(value=0.0, bar_style='info', description='Progress:', layout=Layout(height='25px', width='50%'),…"
      ]
     },
     "metadata": {},
     "output_type": "display_data"
    }
   ],
   "source": [
    "broadcast_weights = sc.broadcast(new_model.get_weights())"
   ]
  },
  {
   "cell_type": "code",
   "execution_count": 11,
   "id": "2abfd2dd",
   "metadata": {},
   "outputs": [
    {
     "data": {
      "application/vnd.jupyter.widget-view+json": {
       "model_id": "",
       "version_major": 2,
       "version_minor": 0
      },
      "text/plain": [
       "FloatProgress(value=0.0, bar_style='info', description='Progress:', layout=Layout(height='25px', width='50%'),…"
      ]
     },
     "metadata": {},
     "output_type": "display_data"
    }
   ],
   "source": [
    "def model_fn():\n",
    "    \"\"\"\n",
    "    Fonction pour créer un nouveau modèle basé sur MobileNetV2 avec des poids pré-entrainés.\n",
    "\n",
    "    Returns:\n",
    "    - new_model (keras.Model): Un modèle basé sur MobileNetV2 avec les poids pré-entrainés.\n",
    "    \"\"\"\n",
    "\n",
    "    # Chargement du modèle MobileNetV2 pré-entrainé sur ImageNet. Le modèle complet est chargé avec toutes ses couches.\n",
    "    model = MobileNetV2(weights='imagenet',\n",
    "                        include_top=True,\n",
    "                        input_shape=(224, 224, 3))\n",
    "\n",
    "    # Désactivation de l'entraînement pour toutes les couches du modèle. Ceci est fait pour geler les poids du modèle pré-entrainé afin de les conserver.\n",
    "    for layer in model.layers:\n",
    "        layer.trainable = False\n",
    "\n",
    "    # Création d'un nouveau modèle en excluant la dernière couche fully connected (FC). Cela permet d'obtenir un modèle sans la couche de prédiction d'ImageNet.\n",
    "    new_model = Model(inputs=model.input,\n",
    "                      outputs=model.layers[-2].output)\n",
    "\n",
    "    # Initialisation des poids du nouveau modèle avec les poids diffusés\n",
    "    new_model.set_weights(broadcast_weights.value)\n",
    "\n",
    "    return new_model"
   ]
  },
  {
   "cell_type": "code",
   "execution_count": 12,
   "id": "d61d636a",
   "metadata": {},
   "outputs": [
    {
     "data": {
      "application/vnd.jupyter.widget-view+json": {
       "model_id": "",
       "version_major": 2,
       "version_minor": 0
      },
      "text/plain": [
       "FloatProgress(value=0.0, bar_style='info', description='Progress:', layout=Layout(height='25px', width='50%'),…"
      ]
     },
     "metadata": {},
     "output_type": "display_data"
    }
   ],
   "source": [
    "def preprocess(content):\n",
    "    \"\"\"\n",
    "    Fonction de prétraitement pour convertir le contenu d'une image en tableau d'entrée pour le modèle.\n",
    "\n",
    "    Args:\n",
    "    - content (bytes): Contenu de l'image en format binaire.\n",
    "\n",
    "    Returns:\n",
    "    - arr (numpy.ndarray): Tableau d'entrée prétraité pour le modèle.\n",
    "    \"\"\"\n",
    "    # Ouverture de l'image, redimensionnement et conversion en tableau\n",
    "    img = Image.open(io.BytesIO(content)).resize([224, 224])\n",
    "    arr = img_to_array(img)\n",
    "    # Prétraitement spécifique à MobileNetV2\n",
    "    return preprocess_input(arr)"
   ]
  },
  {
   "cell_type": "code",
   "execution_count": 13,
   "id": "ab264395",
   "metadata": {},
   "outputs": [
    {
     "data": {
      "application/vnd.jupyter.widget-view+json": {
       "model_id": "",
       "version_major": 2,
       "version_minor": 0
      },
      "text/plain": [
       "FloatProgress(value=0.0, bar_style='info', description='Progress:', layout=Layout(height='25px', width='50%'),…"
      ]
     },
     "metadata": {},
     "output_type": "display_data"
    }
   ],
   "source": [
    "def featurize_series(model, content_series):\n",
    "    \"\"\"\n",
    "    Fonction pour extraire les caractéristiques (features) à partir d'une série de contenus d'images.\n",
    "\n",
    "    Args:\n",
    "    - model (keras.Model): Modèle utilisé pour l'extraction des caractéristiques.\n",
    "    - content_series (pandas.Series): Série de contenus d'images.\n",
    "\n",
    "    Returns:\n",
    "    - pd.Series: Série de caractéristiques extraites.\n",
    "    \"\"\"\n",
    "    # Prétraitement des images dans la série\n",
    "    input = np.stack(content_series.map(preprocess))\n",
    "    # Prédiction des caractéristiques à l'aide du modèle\n",
    "    preds = model.predict(input)\n",
    "    # Aplatir les caractéristiques pour un stockage plus facile dans les DataFrames Spark\n",
    "    output = [p.flatten() for p in preds]\n",
    "    return pd.Series(output)"
   ]
  },
  {
   "cell_type": "code",
   "execution_count": 14,
   "id": "b42df93a",
   "metadata": {},
   "outputs": [
    {
     "data": {
      "application/vnd.jupyter.widget-view+json": {
       "model_id": "",
       "version_major": 2,
       "version_minor": 0
      },
      "text/plain": [
       "FloatProgress(value=0.0, bar_style='info', description='Progress:', layout=Layout(height='25px', width='50%'),…"
      ]
     },
     "metadata": {},
     "output_type": "display_data"
    },
    {
     "name": "stdout",
     "output_type": "stream",
     "text": [
      "/mnt/yarn/usercache/livy/appcache/application_1701655161658_0001/container_1701655161658_0001_01_000001/pyspark.zip/pyspark/sql/pandas/functions.py:403: UserWarning: In Python 3.6+ and Spark 3.0+, it is preferred to specify type hints for pandas UDF instead of specifying pandas UDF type which will be deprecated in the future releases. See SPARK-28264 for more details."
     ]
    }
   ],
   "source": [
    "@pandas_udf('array<float>', PandasUDFType.SCALAR_ITER)\n",
    "def featurize_udf(content_series_iter):\n",
    "    \"\"\"\n",
    "    Fonction UDF Pandas pour extraire les caractéristiques d'un lot de contenus d'images.\n",
    "\n",
    "    Args:\n",
    "    - content_series_iter: Itérateur de séries de contenus d'images.\n",
    "\n",
    "    Yields:\n",
    "    - pd.Series: Série de caractéristiques extraites.\n",
    "    \"\"\"\n",
    "    # Chargement du modèle une seule fois pour amortir les frais généraux\n",
    "    model = model_fn()\n",
    "    for content_series in content_series_iter:\n",
    "        # Rendement des caractéristiques extraites pour chaque série de contenus\n",
    "        yield featurize_series(model, content_series)"
   ]
  },
  {
   "cell_type": "code",
   "execution_count": 15,
   "id": "61192775",
   "metadata": {},
   "outputs": [
    {
     "data": {
      "application/vnd.jupyter.widget-view+json": {
       "model_id": "",
       "version_major": 2,
       "version_minor": 0
      },
      "text/plain": [
       "FloatProgress(value=0.0, bar_style='info', description='Progress:', layout=Layout(height='25px', width='50%'),…"
      ]
     },
     "metadata": {},
     "output_type": "display_data"
    }
   ],
   "source": [
    "# Limitation du nombre de lignes par lot lors de l'utilisation d'Arrow\n",
    "spark.conf.set(\"spark.sql.execution.arrow.maxRecordsPerBatch\", \"1024\")"
   ]
  },
  {
   "cell_type": "code",
   "execution_count": 16,
   "id": "e30d5734",
   "metadata": {},
   "outputs": [
    {
     "data": {
      "application/vnd.jupyter.widget-view+json": {
       "model_id": "",
       "version_major": 2,
       "version_minor": 0
      },
      "text/plain": [
       "FloatProgress(value=0.0, bar_style='info', description='Progress:', layout=Layout(height='25px', width='50%'),…"
      ]
     },
     "metadata": {},
     "output_type": "display_data"
    }
   ],
   "source": [
    "# Création d'un DataFrame de caractéristiques à partir des images\n",
    "features_df = (\n",
    "    images  # DataFrame contenant les informations sur les images\n",
    "    .repartition(20)  # Répartition des données en 20 partitions pour le traitement parallèle\n",
    "    .select(\n",
    "        col(\"path\"),  # Sélection de la colonne 'path' contenant les chemins des images\n",
    "        col(\"label\"),  # Sélection de la colonne 'label' contenant les libellés des images\n",
    "        featurize_udf(\"content\").alias(\"features\")  # Application de la fonction UDF pour extraire les caractéristiques\n",
    "    )\n",
    ")"
   ]
  },
  {
   "cell_type": "code",
   "execution_count": 17,
   "id": "a08d80f1",
   "metadata": {},
   "outputs": [
    {
     "data": {
      "application/vnd.jupyter.widget-view+json": {
       "model_id": "",
       "version_major": 2,
       "version_minor": 0
      },
      "text/plain": [
       "FloatProgress(value=0.0, bar_style='info', description='Progress:', layout=Layout(height='25px', width='50%'),…"
      ]
     },
     "metadata": {},
     "output_type": "display_data"
    },
    {
     "name": "stdout",
     "output_type": "stream",
     "text": [
      "+--------------------+--------------------+--------------------+\n",
      "|                path|               label|            features|\n",
      "+--------------------+--------------------+--------------------+\n",
      "|s3://buckets-data...|apple_red_delicios_1|[0.09279204, 0.0,...|\n",
      "|s3://buckets-data...|              pear_3|[0.50657016, 0.08...|\n",
      "|s3://buckets-data...|apple_red_delicios_1|[0.8578642, 0.306...|\n",
      "|s3://buckets-data...|apple_red_delicios_1|[0.52145797, 0.04...|\n",
      "|s3://buckets-data...|apple_red_delicios_1|[0.5543406, 0.176...|\n",
      "|s3://buckets-data...|apple_red_delicios_1|[0.48165464, 0.03...|\n",
      "|s3://buckets-data...|      apple_golden_1|[0.0, 0.5390478, ...|\n",
      "|s3://buckets-data...|      apple_golden_1|[0.0, 0.15885179,...|\n",
      "|s3://buckets-data...|      apple_golden_1|[0.0, 0.41714785,...|\n",
      "|s3://buckets-data...|   apple_pink_lady_1|[0.5494931, 0.0, ...|\n",
      "+--------------------+--------------------+--------------------+\n",
      "only showing top 10 rows"
     ]
    }
   ],
   "source": [
    "features_df.show(10)"
   ]
  },
  {
   "cell_type": "code",
   "execution_count": 18,
   "id": "a8720aa9",
   "metadata": {},
   "outputs": [
    {
     "data": {
      "application/vnd.jupyter.widget-view+json": {
       "model_id": "",
       "version_major": 2,
       "version_minor": 0
      },
      "text/plain": [
       "FloatProgress(value=0.0, bar_style='info', description='Progress:', layout=Layout(height='25px', width='50%'),…"
      ]
     },
     "metadata": {},
     "output_type": "display_data"
    }
   ],
   "source": [
    "#Construction d'une User defined Fonction qui transforme les listes de features en vecteurs denses.\n",
    "array_to_vector_udf = udf(lambda l: Vectors.dense(l), VectorUDT())"
   ]
  },
  {
   "cell_type": "code",
   "execution_count": 19,
   "id": "200bbecc",
   "metadata": {},
   "outputs": [
    {
     "data": {
      "application/vnd.jupyter.widget-view+json": {
       "model_id": "",
       "version_major": 2,
       "version_minor": 0
      },
      "text/plain": [
       "FloatProgress(value=0.0, bar_style='info', description='Progress:', layout=Layout(height='25px', width='50%'),…"
      ]
     },
     "metadata": {},
     "output_type": "display_data"
    }
   ],
   "source": [
    "# Création d'un DataFrame vectorisé à partir des caractéristiques extraites\n",
    "vectorized_df = features_df.withColumn('cnn_vectors', array_to_vector_udf('features'))"
   ]
  },
  {
   "cell_type": "code",
   "execution_count": 20,
   "id": "7515e7a2",
   "metadata": {},
   "outputs": [
    {
     "data": {
      "application/vnd.jupyter.widget-view+json": {
       "model_id": "",
       "version_major": 2,
       "version_minor": 0
      },
      "text/plain": [
       "FloatProgress(value=0.0, bar_style='info', description='Progress:', layout=Layout(height='25px', width='50%'),…"
      ]
     },
     "metadata": {},
     "output_type": "display_data"
    },
    {
     "name": "stdout",
     "output_type": "stream",
     "text": [
      "+--------------------+--------------------+--------------------+--------------------+\n",
      "|                path|               label|            features|         cnn_vectors|\n",
      "+--------------------+--------------------+--------------------+--------------------+\n",
      "|s3://buckets-data...|              pear_3|[1.129328, 0.2556...|[1.12932801246643...|\n",
      "|s3://buckets-data...|              pear_3|[0.6876476, 0.224...|[0.68764758110046...|\n",
      "|s3://buckets-data...|              pear_3|[0.103774644, 0.0...|[0.10377464443445...|\n",
      "|s3://buckets-data...|              pear_3|[0.44024852, 0.44...|[0.44024851918220...|\n",
      "|s3://buckets-data...|apple_red_delicios_1|[0.46985993, 0.17...|[0.46985992789268...|\n",
      "|s3://buckets-data...|apple_red_delicios_1|[0.24741146, 0.07...|[0.24741145968437...|\n",
      "+--------------------+--------------------+--------------------+--------------------+\n",
      "only showing top 6 rows"
     ]
    }
   ],
   "source": [
    "vectorized_df.show(6, True)"
   ]
  },
  {
   "cell_type": "code",
   "execution_count": 21,
   "id": "ece7283b",
   "metadata": {},
   "outputs": [
    {
     "data": {
      "application/vnd.jupyter.widget-view+json": {
       "model_id": "",
       "version_major": 2,
       "version_minor": 0
      },
      "text/plain": [
       "FloatProgress(value=0.0, bar_style='info', description='Progress:', layout=Layout(height='25px', width='50%'),…"
      ]
     },
     "metadata": {},
     "output_type": "display_data"
    }
   ],
   "source": [
    "# Fonction pour réduction de dimensions PCA\n",
    "def reduc_dim_pca(features):\n",
    "    '''Réduction des dimensions PCA sur les feature\n",
    "    Entrée:\n",
    "    - features de l\\'image\n",
    "    \n",
    "    Retour:\n",
    "    - pca\n",
    "    - pca_matrix: résultat de la réduction de dimensions\n",
    "    '''\n",
    "    # Conversion d'un tableau (array) en vecteur dense\n",
    "    # Création d'un fonction utilisateur avec udf\n",
    "    #vector_dense = udf(lambda x: Vectors.dense(x), VectorUDT())\n",
    "    img_vd_df = features.select(\"path\",\"label\",\"cnn_vectors\")\n",
    "    \n",
    "    # PCA\n",
    "    pca_spark = PCA(inputCol=\"cnn_vectors\", outputCol=\"features_pca\", k=100)\n",
    "    pca = pca_spark.fit(img_vd_df)\n",
    "    pca_matrix = pca.transform(img_vd_df)\n",
    "    \n",
    "    return pca, pca_matrix"
   ]
  },
  {
   "cell_type": "code",
   "execution_count": 22,
   "id": "8053e5d1",
   "metadata": {},
   "outputs": [
    {
     "data": {
      "application/vnd.jupyter.widget-view+json": {
       "model_id": "",
       "version_major": 2,
       "version_minor": 0
      },
      "text/plain": [
       "FloatProgress(value=0.0, bar_style='info', description='Progress:', layout=Layout(height='25px', width='50%'),…"
      ]
     },
     "metadata": {},
     "output_type": "display_data"
    }
   ],
   "source": [
    "# Appelle de la fonction pour la réduction de dimension PCA\n",
    "pca, pca_matrix = reduc_dim_pca(vectorized_df)"
   ]
  },
  {
   "cell_type": "code",
   "execution_count": 23,
   "id": "8052f054",
   "metadata": {},
   "outputs": [
    {
     "data": {
      "application/vnd.jupyter.widget-view+json": {
       "model_id": "",
       "version_major": 2,
       "version_minor": 0
      },
      "text/plain": [
       "FloatProgress(value=0.0, bar_style='info', description='Progress:', layout=Layout(height='25px', width='50%'),…"
      ]
     },
     "metadata": {},
     "output_type": "display_data"
    },
    {
     "name": "stdout",
     "output_type": "stream",
     "text": [
      "+--------------------+--------------------+--------------------+--------------------+\n",
      "|                path|               label|         cnn_vectors|        features_pca|\n",
      "+--------------------+--------------------+--------------------+--------------------+\n",
      "|s3://buckets-data...|              pear_3|[1.12932801246643...|[5.17719494077324...|\n",
      "|s3://buckets-data...|              pear_3|[0.68764758110046...|[5.72051562223153...|\n",
      "|s3://buckets-data...|              pear_3|[0.10377464443445...|[0.03909529548625...|\n",
      "|s3://buckets-data...|              pear_3|[0.44024851918220...|[-0.1034632370571...|\n",
      "|s3://buckets-data...|apple_red_delicios_1|[0.09279204159975...|[-6.4526393018356...|\n",
      "|s3://buckets-data...|              pear_3|[0.50657016038894...|[3.06740773501763...|\n",
      "|s3://buckets-data...|apple_red_delicios_1|[0.46985992789268...|[-8.6126005945394...|\n",
      "|s3://buckets-data...|apple_red_delicios_1|[0.24741145968437...|[-10.288431641490...|\n",
      "|s3://buckets-data...|apple_red_delicios_1|[0.00111465062946...|[-8.5432868782433...|\n",
      "|s3://buckets-data...|apple_red_delicios_1|[0.10556811839342...|[-9.0449178918322...|\n",
      "|s3://buckets-data...|apple_red_delicios_1|[0.52145797014236...|[-12.535272073906...|\n",
      "|s3://buckets-data...|apple_red_delicios_1|[0.55434060096740...|[-11.622034400556...|\n",
      "|s3://buckets-data...|apple_red_delicios_1|[0.09840087592601...|[-9.5553909976677...|\n",
      "|s3://buckets-data...|apple_red_delicios_1|[0.80603462457656...|[-12.705435870056...|\n",
      "|s3://buckets-data...|      apple_golden_1|[0.0,0.0766722038...|[6.82134436996502...|\n",
      "|s3://buckets-data...|      apple_golden_1|[0.0,0.6197554469...|[9.42892360499001...|\n",
      "|s3://buckets-data...|      apple_golden_1|[0.0,0.4171478450...|[7.63548218977197...|\n",
      "|s3://buckets-data...|   apple_pink_lady_1|[0.54949307441711...|[-6.3469026029253...|\n",
      "|s3://buckets-data...|   apple_pink_lady_1|[0.02905406802892...|[-0.0867346241719...|\n",
      "|s3://buckets-data...|   apple_pink_lady_1|[0.02653994783759...|[-3.3957242382480...|\n",
      "+--------------------+--------------------+--------------------+--------------------+\n",
      "only showing top 20 rows"
     ]
    }
   ],
   "source": [
    "pca_matrix.show(20)"
   ]
  },
  {
   "cell_type": "code",
   "execution_count": 24,
   "id": "1178c122",
   "metadata": {},
   "outputs": [
    {
     "data": {
      "application/vnd.jupyter.widget-view+json": {
       "model_id": "",
       "version_major": 2,
       "version_minor": 0
      },
      "text/plain": [
       "FloatProgress(value=0.0, bar_style='info', description='Progress:', layout=Layout(height='25px', width='50%'),…"
      ]
     },
     "metadata": {},
     "output_type": "display_data"
    }
   ],
   "source": [
    "# Fonction pour l'affichage du diagramme des éboulis PCA\n",
    "def display_pca_eboulis(pca):\n",
    "    '''Affichage du diagramme des éboulis sur PCA\n",
    "    Entrée:\n",
    "    - pca\n",
    "    \n",
    "    Retour:\n",
    "    - N/A\n",
    "    '''\n",
    "    # Variance expliquée\n",
    "    varexpl = pca.explainedVariance*100\n",
    "        \n",
    "    # Affichage de la variance cumulée\n",
    "    plt.figure(figsize=(11,7))\n",
    "    plt.bar(np.arange(len(varexpl))+1, varexpl)\n",
    "\n",
    "    cumSumVar = varexpl.cumsum()\n",
    "    plt.plot(np.arange(len(varexpl))+1, cumSumVar,c=\"red\",marker='o')\n",
    "    plt.axhline(y=90, linestyle=\"--\", \n",
    "                color=\"green\",\n",
    "                linewidth=1)\n",
    "\n",
    "    limit = 90\n",
    "    valid_idx = np.where(cumSumVar >= limit)[0]\n",
    "    min_plans = valid_idx[cumSumVar[valid_idx].argmin()]+1\n",
    "    plt.axvline(x=min_plans, linestyle=\"--\", \n",
    "                color=\"green\",\n",
    "                linewidth=1)\n",
    "\n",
    "    plt.xlabel(\"Rang de l'axe d'inertie pour les composantes K\")\n",
    "    plt.xticks(np.arange(0,105,5))\n",
    "    plt.xlim(left=0)\n",
    "    plt.ylabel(\"Pourcentage d'inertie\")\n",
    "    plt.title(\"{}% de la variance totale est expliquée\"\\\n",
    "                \" par les {} premiers axes\".format(limit,\n",
    "                                            min_plans))\n",
    "    plt.show(block=False)\n",
    "        \n",
    "    return None"
   ]
  },
  {
   "cell_type": "code",
   "execution_count": 25,
   "id": "8b56dc47",
   "metadata": {},
   "outputs": [
    {
     "data": {
      "application/vnd.jupyter.widget-view+json": {
       "model_id": "",
       "version_major": 2,
       "version_minor": 0
      },
      "text/plain": [
       "FloatProgress(value=0.0, bar_style='info', description='Progress:', layout=Layout(height='25px', width='50%'),…"
      ]
     },
     "metadata": {},
     "output_type": "display_data"
    }
   ],
   "source": [
    "# Affichage du diagramme des éboulis\n",
    "display_pca_eboulis(pca)"
   ]
  },
  {
   "cell_type": "code",
   "execution_count": 26,
   "id": "4d66cd18",
   "metadata": {},
   "outputs": [
    {
     "data": {
      "application/vnd.jupyter.widget-view+json": {
       "model_id": "",
       "version_major": 2,
       "version_minor": 0
      },
      "text/plain": [
       "FloatProgress(value=0.0, bar_style='info', description='Progress:', layout=Layout(height='25px', width='50%'),…"
      ]
     },
     "metadata": {},
     "output_type": "display_data"
    }
   ],
   "source": [
    "# Transformation inverse (de Vectors à Arrays)\n",
    "vector_to_array_udf = udf(lambda v: v.toArray().tolist(), ArrayType(FloatType()))"
   ]
  },
  {
   "cell_type": "code",
   "execution_count": 27,
   "id": "ab7a444b",
   "metadata": {},
   "outputs": [
    {
     "data": {
      "application/vnd.jupyter.widget-view+json": {
       "model_id": "",
       "version_major": 2,
       "version_minor": 0
      },
      "text/plain": [
       "FloatProgress(value=0.0, bar_style='info', description='Progress:', layout=Layout(height='25px', width='50%'),…"
      ]
     },
     "metadata": {},
     "output_type": "display_data"
    }
   ],
   "source": [
    "final_df = pca_matrix.withColumn('features', vector_to_array_udf('features_pca'))"
   ]
  },
  {
   "cell_type": "code",
   "execution_count": 28,
   "id": "4416e334",
   "metadata": {},
   "outputs": [
    {
     "data": {
      "application/vnd.jupyter.widget-view+json": {
       "model_id": "",
       "version_major": 2,
       "version_minor": 0
      },
      "text/plain": [
       "FloatProgress(value=0.0, bar_style='info', description='Progress:', layout=Layout(height='25px', width='50%'),…"
      ]
     },
     "metadata": {},
     "output_type": "display_data"
    },
    {
     "name": "stdout",
     "output_type": "stream",
     "text": [
      "+--------------------+--------------------+--------------------+--------------------+--------------------+\n",
      "|                path|               label|         cnn_vectors|        features_pca|            features|\n",
      "+--------------------+--------------------+--------------------+--------------------+--------------------+\n",
      "|s3://buckets-data...|              pear_3|[0.50564825534820...|[3.87160660262834...|[3.8716066, 8.488...|\n",
      "|s3://buckets-data...|              pear_3|[0.59719002246856...|[1.16041364501100...|[1.1604136, 8.267...|\n",
      "|s3://buckets-data...|apple_red_delicios_1|[0.85786420106887...|[-13.991283388120...|[-13.991283, 1.48...|\n",
      "|s3://buckets-data...|apple_red_delicios_1|[0.46985992789268...|[-8.6126005945394...|[-8.6126, 1.11063...|\n",
      "|s3://buckets-data...|apple_red_delicios_1|[0.24741145968437...|[-10.288431641490...|[-10.288431, -1.4...|\n",
      "|s3://buckets-data...|apple_red_delicios_1|[0.00111465062946...|[-8.5432868782433...|[-8.543287, 0.347...|\n",
      "+--------------------+--------------------+--------------------+--------------------+--------------------+\n",
      "only showing top 6 rows"
     ]
    }
   ],
   "source": [
    "final_df.show(6, True)"
   ]
  },
  {
   "cell_type": "code",
   "execution_count": 29,
   "id": "c0cfe8ce",
   "metadata": {},
   "outputs": [
    {
     "data": {
      "application/vnd.jupyter.widget-view+json": {
       "model_id": "",
       "version_major": 2,
       "version_minor": 0
      },
      "text/plain": [
       "FloatProgress(value=0.0, bar_style='info', description='Progress:', layout=Layout(height='25px', width='50%'),…"
      ]
     },
     "metadata": {},
     "output_type": "display_data"
    }
   ],
   "source": [
    "# Enregistrement des données (format parquet)\n",
    "final_df.write.mode('overwrite').parquet(PATH_Result)"
   ]
  },
  {
   "cell_type": "code",
   "execution_count": 30,
   "id": "444c18a6",
   "metadata": {},
   "outputs": [
    {
     "data": {
      "application/vnd.jupyter.widget-view+json": {
       "model_id": "",
       "version_major": 2,
       "version_minor": 0
      },
      "text/plain": [
       "FloatProgress(value=0.0, bar_style='info', description='Progress:', layout=Layout(height='25px', width='50%'),…"
      ]
     },
     "metadata": {},
     "output_type": "display_data"
    }
   ],
   "source": [
    "df = pd.read_parquet(PATH_Result, engine='pyarrow')"
   ]
  },
  {
   "cell_type": "code",
   "execution_count": 31,
   "id": "b4a7f3c7",
   "metadata": {},
   "outputs": [
    {
     "data": {
      "application/vnd.jupyter.widget-view+json": {
       "model_id": "",
       "version_major": 2,
       "version_minor": 0
      },
      "text/plain": [
       "FloatProgress(value=0.0, bar_style='info', description='Progress:', layout=Layout(height='25px', width='50%'),…"
      ]
     },
     "metadata": {},
     "output_type": "display_data"
    },
    {
     "name": "stdout",
     "output_type": "stream",
     "text": [
      "                                                   path  ...                                           features\n",
      "0                s3://buckets-data/Test/pear_3/r0_4.jpg  ...  [5.177195, 7.8471303, 1.692013, 19.994278, 1.2...\n",
      "1                s3://buckets-data/Test/pear_3/r0_8.jpg  ...  [5.7205157, 6.9522395, 2.2764564, 17.884733, 2...\n",
      "2               s3://buckets-data/Test/pear_3/r0_60.jpg  ...  [0.039095294, 7.7602572, 3.8032453, 10.0871935...\n",
      "3              s3://buckets-data/Test/pear_3/r0_270.jpg  ...  [-0.10346324, 9.0959215, 3.2954853, 13.42263, ...\n",
      "4     s3://buckets-data/Test/apple_red_delicios_1/r1...  ...  [-6.452639, -0.09719531, 2.3864064, 2.2326634,...\n",
      "...                                                 ...  ...                                                ...\n",
      "1375           s3://buckets-data/Test/apple_6/r1_28.jpg  ...  [-0.44116402, 13.907021, -3.1299317, 4.796015,...\n",
      "1376          s3://buckets-data/Test/apple_6/r0_200.jpg  ...  [-1.5895584, 15.993085, -6.1968613, 4.4463277,...\n",
      "1377          s3://buckets-data/Test/apple_6/r0_302.jpg  ...  [-0.29991344, 14.521956, -5.4608407, 1.7785215...\n",
      "1378            s3://buckets-data/Test/apple_6/r0_4.jpg  ...  [-0.18326154, 15.039215, -5.6725054, 3.9066603...\n",
      "1379           s3://buckets-data/Test/apple_6/r1_58.jpg  ...  [-0.6032835, 16.708683, -5.90424, 3.05891, -4....\n",
      "\n",
      "[1380 rows x 5 columns]"
     ]
    }
   ],
   "source": [
    "df"
   ]
  }
 ],
 "metadata": {
  "kernelspec": {
   "display_name": "PySpark",
   "language": "python",
   "name": "pysparkkernel"
  },
  "language_info": {
   "codemirror_mode": {
    "name": "python",
    "version": 3
   },
   "file_extension": ".py",
   "mimetype": "text/x-python",
   "name": "pyspark",
   "pygments_lexer": "python3"
  }
 },
 "nbformat": 4,
 "nbformat_minor": 5
}
