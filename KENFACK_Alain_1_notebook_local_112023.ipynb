{
 "cells": [
  {
   "cell_type": "markdown",
   "metadata": {},
   "source": [
    "# <center> <font color = \"green\"> **Déploiement d'un modèle dans le cloud**"
   ]
  },
  {
   "cell_type": "markdown",
   "metadata": {},
   "source": [
    "## <font color = \"#5DoD6E\"> **Description du projet :** <br>\n",
    "<font color = \"black\"> La start-up de l'AgriTech, nommée \"Fruits!\", cherche à proposer des solutions innovantes pour la récolte des fruits. La volonté de l’entreprise est de préserver la biodiversité des fruits en permettant des traitements spécifiques pour chaque espèce de fruits en développant des robots cueilleurs intelligents.\n",
    "\n",
    "La start-up souhaite dans un premier temps se faire connaître en mettant à disposition du grand public une application mobile qui permettrait aux utilisateurs de prendre en photo un fruit et d'obtenir des informations sur ce fruit. \n",
    "\n",
    "Cette application permettrait de sensibiliser le grand public à la biodiversité des fruits et de mettre en place une première version du moteur de classification des images de fruits. De plus, le développement de l’application mobile permettra de construire une première version de l'architecture Big Data nécessaire.\n",
    "\n",
    "## <font color = \"#5DoD6E\"> **Objectifs de ce projet :** <br>\n",
    "<font color = \"black\"> \n",
    "\n",
    "* Développer une première chaîne de traitement des données qui comprendra le preprocessing et une étape de réduction de dimension.\n",
    "* Tenir compte du fait que le volume de données va augmentertrès rapidement après la livraison de ce projet, ce qui implique de:\n",
    "     - Déployer le traitement des données dans un environnement Big Data.\n",
    "     - Développer les scripts en pyspark pour effectuer du calcul distribué.\n",
    "\n",
    "## <font color = \"#5DoD6E\"> **Méthodologie**\n",
    "\n",
    "#### <font color = \"ED4353\"> **Mettre en place le calcul distribué :**\n",
    "<font color = \"black\"> Développer des scripts en pyspark afin de prévenir l’augmentation très rapide du volume de donné après la livraison du projet.\n",
    "\n",
    "#### <font color = \"ED4353\"> **Transfert learning :**\n",
    "<font color = \"black\"> La statup ne souhaite pas, pour l'intstant, entraîner un modèle. Mais étant donné qu'il faille réaliser une première chaîne de traitement des données qui comprendra le preprocessing et une étape de réduction de dimension, je vais me servir du transfert learning afin d'utiliser la connaissance déjà acquise par un modèle entraîné (VGG16) pour l'adapter à cette problématique.\n",
    "\n",
    "#### <font color = \"ED4353\"> **Déploiement de la solution sur le cloud :**\n",
    "<font color = \"black\"> Le prestataire le plus connu et qui offre à ce jour l'offre la plus large dans le cloud computing est Amazon Web Services (AWS). Certaines de leurs offres sont parfaitement adaptées à cette problématique"
   ]
  },
  {
   "cell_type": "markdown",
   "metadata": {},
   "source": [
    "## <font color = \"#5DoD6E\"> **1. Importation des librairies et définition des fonctions**"
   ]
  },
  {
   "cell_type": "markdown",
   "metadata": {},
   "source": [
    "#### <font color = \"#5DoD6E\"> **1.1. Importation des librairies**"
   ]
  },
  {
   "cell_type": "code",
   "execution_count": 1,
   "metadata": {},
   "outputs": [
    {
     "name": "stdout",
     "output_type": "stream",
     "text": [
      "WARNING:tensorflow:From c:\\Users\\alain\\AppData\\Local\\Programs\\Python\\Python311\\Lib\\site-packages\\keras\\src\\losses.py:2976: The name tf.losses.sparse_softmax_cross_entropy is deprecated. Please use tf.compat.v1.losses.sparse_softmax_cross_entropy instead.\n",
      "\n"
     ]
    }
   ],
   "source": [
    "# Librairies pour la manipulation de données\n",
    "import pandas as pd\n",
    "from pyspark.sql import SparkSession\n",
    "from pyspark.sql.functions import col, pandas_udf, PandasUDFType, element_at, split, udf\n",
    "from pyspark.sql.types import *\n",
    "\n",
    "# Librairies pour le traitement d'images\n",
    "from PIL import Image\n",
    "import numpy as np\n",
    "import io\n",
    "import os\n",
    "from keras.preprocessing.image import img_to_array\n",
    "from pyspark.ml.image import ImageSchema\n",
    "\n",
    "# Librairies pour la visualisation\n",
    "import matplotlib.pyplot as plt\n",
    "\n",
    "# Librairies pour l'apprentissage automatique (Deep Learning)\n",
    "import tensorflow as tf\n",
    "from tensorflow import keras\n",
    "from keras import Model\n",
    "from keras.applications.mobilenet_v2 import MobileNetV2, preprocess_input\n",
    "\n",
    "# Librairies pour le traitement des données vectorielles\n",
    "from pyspark.ml.feature import PCA  \n",
    "from pyspark.ml.linalg import Vectors, VectorUDT\n",
    "\n",
    "# Autre\n",
    "import findspark"
   ]
  },
  {
   "cell_type": "markdown",
   "metadata": {},
   "source": [
    "#### <font color = \"#5DoD6E\">  **1.2. Chargement et traitement des données**"
   ]
  },
  {
   "cell_type": "markdown",
   "metadata": {},
   "source": [
    "**Définition des PATH pour le chargement et l'enregistrement des résultats.**"
   ]
  },
  {
   "cell_type": "code",
   "execution_count": 2,
   "metadata": {},
   "outputs": [],
   "source": [
    "# Chemin vers le répertoire des données\n",
    "PATH_Data = r\"C:\\Users\\alain\\OneDrive\\Documents\\Formation Data scientist\\projet_8\\data\\data_test\"\n",
    "\n",
    "# Chemin vers le répertoire des résultats\n",
    "PATH_Result = r\"C:\\Users\\alain\\OneDrive\\Documents\\Formation Data scientist\\projet_8\\data\\data_results\""
   ]
  },
  {
   "cell_type": "markdown",
   "metadata": {},
   "source": [
    "**Création de la SparkSession**"
   ]
  },
  {
   "cell_type": "markdown",
   "metadata": {},
   "source": [
    "L’application Spark est contrôlée grâce à un processus de pilotage (driver process) appelé SparkSession. Une instance de **_SparkSession_** est la façon dont Spark exécute les fonctions définies par l’utilisateur\n",
    "dans l’ensemble du cluster. Une SparkSession correspond toujours à une application Spark. <br> Pour fonctionner correctement, Spark doit être trouvé par Python lors de l'exécution de scripts. Cependant, il n'est pas toujours automatiquement accessible depuis Python.Pour résoudre ce problème, je vais définir la fonction **_findspark_** qui aura pour rôle principal de permettre à un script Python d'accéder à l'installation de Spark sur ce PC."
   ]
  },
  {
   "cell_type": "code",
   "execution_count": 3,
   "metadata": {},
   "outputs": [],
   "source": [
    "# Intégration de Spark dans l'environnement Python\n",
    "findspark.init()"
   ]
  },
  {
   "cell_type": "code",
   "execution_count": 4,
   "metadata": {},
   "outputs": [],
   "source": [
    "# Création d'une session Spark\n",
    "spark = (\n",
    "    SparkSession\n",
    "    .builder\n",
    "    .config(\"spark.driver.memory\", \"25g\")\n",
    "    .config(\"spark.executor.memory\", \"20g\")\n",
    "    .config('spark.jars.packages', 'org.apache.hadoop:hadoop-aws:3.2.0')\n",
    "    .config(\"spark.sql.parquet.writeLegacyFormat\", 'true')\n",
    "    .config('spark.driver.maxResultSize', '20G')\n",
    "    .config('spark.driver.host', 'localhost')\n",
    "    .master('local')\n",
    "    .appName('projet_8')\n",
    "    .getOrCreate()\n",
    ")"
   ]
  },
  {
   "cell_type": "code",
   "execution_count": 5,
   "metadata": {},
   "outputs": [],
   "source": [
    "# Récupération du SparkContext à partir de la session Spark\n",
    "sc = spark.sparkContext"
   ]
  },
  {
   "cell_type": "code",
   "execution_count": 6,
   "metadata": {},
   "outputs": [
    {
     "data": {
      "text/html": [
       "\n",
       "            <div>\n",
       "                <p><b>SparkSession - in-memory</b></p>\n",
       "                \n",
       "        <div>\n",
       "            <p><b>SparkContext</b></p>\n",
       "\n",
       "            <p><a href=\"http://localhost:4040\">Spark UI</a></p>\n",
       "\n",
       "            <dl>\n",
       "              <dt>Version</dt>\n",
       "                <dd><code>v3.5.0</code></dd>\n",
       "              <dt>Master</dt>\n",
       "                <dd><code>local</code></dd>\n",
       "              <dt>AppName</dt>\n",
       "                <dd><code>projet_8</code></dd>\n",
       "            </dl>\n",
       "        </div>\n",
       "        \n",
       "            </div>\n",
       "        "
      ],
      "text/plain": [
       "<pyspark.sql.session.SparkSession at 0x19002c805d0>"
      ]
     },
     "execution_count": 6,
     "metadata": {},
     "output_type": "execute_result"
    }
   ],
   "source": [
    "# Affichage des informations de Spark en cours d'execution\n",
    "spark"
   ]
  },
  {
   "cell_type": "markdown",
   "metadata": {},
   "source": [
    "**Chargement des données**\n",
    "\n",
    "Les images sont chargées au format binaire, ce qui offre, plus de souplesse dans la façon de prétraiter les images.<br>\n",
    "Je ne vais charger que les fichiers dont l'extension est jpg. J'ai utilisé 5 friuts pour réaliser ce projet en local : Apple_Golden_1, Apple_Red_delicios_1, apple_6, pear_3 et apple_pink_lady_1"
   ]
  },
  {
   "cell_type": "code",
   "execution_count": 7,
   "metadata": {},
   "outputs": [],
   "source": [
    "# Lecture des fichiers binaires (images) à partir d'un répertoire avec Spark\n",
    "images = (\n",
    "    spark  # Utilisation de la session Spark précédemment créée\n",
    "    .read  # Méthode pour lire des données dans Spark\n",
    "    .format(\"binaryFile\")  # Spécification du format des fichiers (ici, fichiers binaires)\n",
    "    .option(\"pathGlobFilter\", \"*.jpg\")  # Filtrage des fichiers pour inclure uniquement ceux avec l'extension .jpg\n",
    "    .option(\"recursiveFileLookup\", \"true\")  # Activation de la recherche récursive des fichiers dans les sous-répertoires\n",
    "    .load(PATH_Data)  # Chargement des fichiers binaires à partir du chemin spécifié (PATH_Data)\n",
    ")"
   ]
  },
  {
   "cell_type": "code",
   "execution_count": 8,
   "metadata": {},
   "outputs": [
    {
     "name": "stdout",
     "output_type": "stream",
     "text": [
      "+--------------------+--------------------+------+--------------------+\n",
      "|                path|    modificationTime|length|             content|\n",
      "+--------------------+--------------------+------+--------------------+\n",
      "|file:/C:/Users/al...|2023-11-28 03:38:...| 78796|[FF D8 FF E0 00 1...|\n",
      "|file:/C:/Users/al...|2023-11-28 03:38:...| 78179|[FF D8 FF E0 00 1...|\n",
      "|file:/C:/Users/al...|2023-11-28 03:38:...| 78142|[FF D8 FF E0 00 1...|\n",
      "|file:/C:/Users/al...|2023-11-28 03:38:...| 78115|[FF D8 FF E0 00 1...|\n",
      "|file:/C:/Users/al...|2023-11-28 03:38:...| 77820|[FF D8 FF E0 00 1...|\n",
      "|file:/C:/Users/al...|2023-11-28 03:38:...| 77580|[FF D8 FF E0 00 1...|\n",
      "|file:/C:/Users/al...|2023-11-28 03:38:...| 77527|[FF D8 FF E0 00 1...|\n",
      "|file:/C:/Users/al...|2023-11-28 03:38:...| 77515|[FF D8 FF E0 00 1...|\n",
      "|file:/C:/Users/al...|2023-11-28 03:38:...| 77506|[FF D8 FF E0 00 1...|\n",
      "|file:/C:/Users/al...|2023-11-28 03:38:...| 77421|[FF D8 FF E0 00 1...|\n",
      "|file:/C:/Users/al...|2023-11-28 03:38:...| 77205|[FF D8 FF E0 00 1...|\n",
      "|file:/C:/Users/al...|2023-11-28 03:38:...| 77152|[FF D8 FF E0 00 1...|\n",
      "|file:/C:/Users/al...|2023-11-28 03:38:...| 77084|[FF D8 FF E0 00 1...|\n",
      "|file:/C:/Users/al...|2023-11-28 03:38:...| 76905|[FF D8 FF E0 00 1...|\n",
      "|file:/C:/Users/al...|2023-11-28 03:38:...| 76851|[FF D8 FF E0 00 1...|\n",
      "|file:/C:/Users/al...|2023-11-28 03:38:...| 76800|[FF D8 FF E0 00 1...|\n",
      "|file:/C:/Users/al...|2023-11-28 03:38:...| 76762|[FF D8 FF E0 00 1...|\n",
      "|file:/C:/Users/al...|2023-11-28 03:38:...| 76753|[FF D8 FF E0 00 1...|\n",
      "|file:/C:/Users/al...|2023-11-28 03:38:...| 76625|[FF D8 FF E0 00 1...|\n",
      "|file:/C:/Users/al...|2023-11-28 03:38:...| 76603|[FF D8 FF E0 00 1...|\n",
      "+--------------------+--------------------+------+--------------------+\n",
      "only showing top 20 rows\n",
      "\n"
     ]
    }
   ],
   "source": [
    "# Visualisation\n",
    "images.show()"
   ]
  },
  {
   "cell_type": "code",
   "execution_count": 9,
   "metadata": {},
   "outputs": [
    {
     "data": {
      "text/plain": [
       "1380"
      ]
     },
     "execution_count": 9,
     "metadata": {},
     "output_type": "execute_result"
    }
   ],
   "source": [
    "# Nombre d'image\n",
    "images.count()"
   ]
  },
  {
   "cell_type": "markdown",
   "metadata": {},
   "source": [
    "Ajout d'une colonne **_\"label_\"** au DataFrame **_\"images_\"**, dérivée de la dernière partie du chemin des fichiers dans la colonne **_\"path\"_**."
   ]
  },
  {
   "cell_type": "code",
   "execution_count": 10,
   "metadata": {},
   "outputs": [
    {
     "name": "stdout",
     "output_type": "stream",
     "text": [
      "root\n",
      " |-- path: string (nullable = true)\n",
      " |-- modificationTime: timestamp (nullable = true)\n",
      " |-- length: long (nullable = true)\n",
      " |-- content: binary (nullable = true)\n",
      " |-- label: string (nullable = true)\n",
      "\n",
      "None\n",
      "+----------------------------------------------------------------------------------------------------------+------+\n",
      "|path                                                                                                      |label |\n",
      "+----------------------------------------------------------------------------------------------------------+------+\n",
      "|file:/C:/Users/alain/OneDrive/Documents/Formation Data scientist/projet_8/data/data_test/pear_3/r0_148.jpg|pear_3|\n",
      "|file:/C:/Users/alain/OneDrive/Documents/Formation Data scientist/projet_8/data/data_test/pear_3/r0_146.jpg|pear_3|\n",
      "|file:/C:/Users/alain/OneDrive/Documents/Formation Data scientist/projet_8/data/data_test/pear_3/r0_142.jpg|pear_3|\n",
      "|file:/C:/Users/alain/OneDrive/Documents/Formation Data scientist/projet_8/data/data_test/pear_3/r0_132.jpg|pear_3|\n",
      "|file:/C:/Users/alain/OneDrive/Documents/Formation Data scientist/projet_8/data/data_test/pear_3/r0_134.jpg|pear_3|\n",
      "|file:/C:/Users/alain/OneDrive/Documents/Formation Data scientist/projet_8/data/data_test/pear_3/r0_194.jpg|pear_3|\n",
      "+----------------------------------------------------------------------------------------------------------+------+\n",
      "only showing top 6 rows\n",
      "\n",
      "None\n"
     ]
    }
   ],
   "source": [
    "# Ajout d'une colonne 'label' au DataFrame 'images'\n",
    "images = images.withColumn('label', element_at(split(images['path'], '/'), -2))\n",
    "\n",
    "# Impression du schéma du DataFrame 'images'\n",
    "print(images.printSchema())\n",
    "\n",
    "# Sélection des colonnes 'path' et 'label' et affichage des six premières lignes\n",
    "print(images.select('path', 'label').show(6, False))"
   ]
  },
  {
   "cell_type": "markdown",
   "metadata": {},
   "source": [
    "#### <font color = \"#5DoD6E\">  **2.EXTRACTION DES FEATURES**\n",
    "<font color = \"black\"> \n",
    "\n",
    "Utilisation d'une approche de featurization de des images par transfer learning.\n",
    "\n",
    "Cela consiste à extraire les features les plus pertinentes pour la classification de nos iamges en utilisant un modèle de deep learning pré-entraîné sur de la classification d'image, auquel on enlève la dernière couche - celle qui classifie - afin d'obtenir en sortie un tenseur des features les plus significatives de nos images.\n",
    "\n",
    "Ce tenseur pourra ensuite être fourni à un autre modèle de classification, qui sera ainsi adapté à nos classes.\n",
    "\n",
    "Nous utilisons la technique du **transfert learning** pour extraire les features des images.\n",
    "J'ai choisi d'utiliser le modèle **MobileNetV2** pour sa rapidité d'exécution comparée à d'autres modèles comme VGG16 par exemple.\n",
    "\n",
    "L'idée dans ce projet est de récupérer le vecteur de caractéristiques de dimensions (1,1,1280) qui servira, plus tard, au travers d'un moteur de classification à reconnaitre les différents fruits du jeu de données."
   ]
  },
  {
   "cell_type": "code",
   "execution_count": 11,
   "metadata": {},
   "outputs": [
    {
     "name": "stdout",
     "output_type": "stream",
     "text": [
      "WARNING:tensorflow:From c:\\Users\\alain\\AppData\\Local\\Programs\\Python\\Python311\\Lib\\site-packages\\keras\\src\\backend.py:1398: The name tf.executing_eagerly_outside_functions is deprecated. Please use tf.compat.v1.executing_eagerly_outside_functions instead.\n",
      "\n",
      "WARNING:tensorflow:From c:\\Users\\alain\\AppData\\Local\\Programs\\Python\\Python311\\Lib\\site-packages\\keras\\src\\layers\\normalization\\batch_normalization.py:979: The name tf.nn.fused_batch_norm is deprecated. Please use tf.compat.v1.nn.fused_batch_norm instead.\n",
      "\n"
     ]
    }
   ],
   "source": [
    "# Chargement du modèle MobileNetV2 pré-entraîné sur ImageNet\n",
    "# Le paramètre 'weights' spécifie que les poids pré-entraînés sur le jeu de données ImageNet doivent être utilisés.\n",
    "# Le paramètre 'include_top' indique si les couches fully connected (FC) situées au sommet du réseau doivent être incluses.\n",
    "# Le paramètre 'input_shape' définit la forme attendue de l'entrée du modèle.\n",
    "model = MobileNetV2(weights='imagenet',\n",
    "                    include_top=True,\n",
    "                    input_shape=(224, 224, 3))\n",
    "\n",
    "# Création d'un nouveau modèle en excluant la dernière couche fully connected (FC)\n",
    "# Cela permet d'obtenir un modèle sans la couche de prédiction d'ImageNet.\n",
    "new_model = Model(inputs=model.input,           \n",
    "                  outputs=model.layers[-2].output)"
   ]
  },
  {
   "cell_type": "code",
   "execution_count": 12,
   "metadata": {},
   "outputs": [
    {
     "name": "stdout",
     "output_type": "stream",
     "text": [
      "Model: \"model\"\n",
      "__________________________________________________________________________________________________\n",
      " Layer (type)                Output Shape                 Param #   Connected to                  \n",
      "==================================================================================================\n",
      " input_1 (InputLayer)        [(None, 224, 224, 3)]        0         []                            \n",
      "                                                                                                  \n",
      " Conv1 (Conv2D)              (None, 112, 112, 32)         864       ['input_1[0][0]']             \n",
      "                                                                                                  \n",
      " bn_Conv1 (BatchNormalizati  (None, 112, 112, 32)         128       ['Conv1[0][0]']               \n",
      " on)                                                                                              \n",
      "                                                                                                  \n",
      " Conv1_relu (ReLU)           (None, 112, 112, 32)         0         ['bn_Conv1[0][0]']            \n",
      "                                                                                                  \n",
      " expanded_conv_depthwise (D  (None, 112, 112, 32)         288       ['Conv1_relu[0][0]']          \n",
      " epthwiseConv2D)                                                                                  \n",
      "                                                                                                  \n",
      " expanded_conv_depthwise_BN  (None, 112, 112, 32)         128       ['expanded_conv_depthwise[0][0\n",
      "  (BatchNormalization)                                              ]']                           \n",
      "                                                                                                  \n",
      " expanded_conv_depthwise_re  (None, 112, 112, 32)         0         ['expanded_conv_depthwise_BN[0\n",
      " lu (ReLU)                                                          ][0]']                        \n",
      "                                                                                                  \n",
      " expanded_conv_project (Con  (None, 112, 112, 16)         512       ['expanded_conv_depthwise_relu\n",
      " v2D)                                                               [0][0]']                      \n",
      "                                                                                                  \n",
      " expanded_conv_project_BN (  (None, 112, 112, 16)         64        ['expanded_conv_project[0][0]'\n",
      " BatchNormalization)                                                ]                             \n",
      "                                                                                                  \n",
      " block_1_expand (Conv2D)     (None, 112, 112, 96)         1536      ['expanded_conv_project_BN[0][\n",
      "                                                                    0]']                          \n",
      "                                                                                                  \n",
      " block_1_expand_BN (BatchNo  (None, 112, 112, 96)         384       ['block_1_expand[0][0]']      \n",
      " rmalization)                                                                                     \n",
      "                                                                                                  \n",
      " block_1_expand_relu (ReLU)  (None, 112, 112, 96)         0         ['block_1_expand_BN[0][0]']   \n",
      "                                                                                                  \n",
      " block_1_pad (ZeroPadding2D  (None, 113, 113, 96)         0         ['block_1_expand_relu[0][0]'] \n",
      " )                                                                                                \n",
      "                                                                                                  \n",
      " block_1_depthwise (Depthwi  (None, 56, 56, 96)           864       ['block_1_pad[0][0]']         \n",
      " seConv2D)                                                                                        \n",
      "                                                                                                  \n",
      " block_1_depthwise_BN (Batc  (None, 56, 56, 96)           384       ['block_1_depthwise[0][0]']   \n",
      " hNormalization)                                                                                  \n",
      "                                                                                                  \n",
      " block_1_depthwise_relu (Re  (None, 56, 56, 96)           0         ['block_1_depthwise_BN[0][0]']\n",
      " LU)                                                                                              \n",
      "                                                                                                  \n",
      " block_1_project (Conv2D)    (None, 56, 56, 24)           2304      ['block_1_depthwise_relu[0][0]\n",
      "                                                                    ']                            \n",
      "                                                                                                  \n",
      " block_1_project_BN (BatchN  (None, 56, 56, 24)           96        ['block_1_project[0][0]']     \n",
      " ormalization)                                                                                    \n",
      "                                                                                                  \n",
      " block_2_expand (Conv2D)     (None, 56, 56, 144)          3456      ['block_1_project_BN[0][0]']  \n",
      "                                                                                                  \n",
      " block_2_expand_BN (BatchNo  (None, 56, 56, 144)          576       ['block_2_expand[0][0]']      \n",
      " rmalization)                                                                                     \n",
      "                                                                                                  \n",
      " block_2_expand_relu (ReLU)  (None, 56, 56, 144)          0         ['block_2_expand_BN[0][0]']   \n",
      "                                                                                                  \n",
      " block_2_depthwise (Depthwi  (None, 56, 56, 144)          1296      ['block_2_expand_relu[0][0]'] \n",
      " seConv2D)                                                                                        \n",
      "                                                                                                  \n",
      " block_2_depthwise_BN (Batc  (None, 56, 56, 144)          576       ['block_2_depthwise[0][0]']   \n",
      " hNormalization)                                                                                  \n",
      "                                                                                                  \n",
      " block_2_depthwise_relu (Re  (None, 56, 56, 144)          0         ['block_2_depthwise_BN[0][0]']\n",
      " LU)                                                                                              \n",
      "                                                                                                  \n",
      " block_2_project (Conv2D)    (None, 56, 56, 24)           3456      ['block_2_depthwise_relu[0][0]\n",
      "                                                                    ']                            \n",
      "                                                                                                  \n",
      " block_2_project_BN (BatchN  (None, 56, 56, 24)           96        ['block_2_project[0][0]']     \n",
      " ormalization)                                                                                    \n",
      "                                                                                                  \n",
      " block_2_add (Add)           (None, 56, 56, 24)           0         ['block_1_project_BN[0][0]',  \n",
      "                                                                     'block_2_project_BN[0][0]']  \n",
      "                                                                                                  \n",
      " block_3_expand (Conv2D)     (None, 56, 56, 144)          3456      ['block_2_add[0][0]']         \n",
      "                                                                                                  \n",
      " block_3_expand_BN (BatchNo  (None, 56, 56, 144)          576       ['block_3_expand[0][0]']      \n",
      " rmalization)                                                                                     \n",
      "                                                                                                  \n",
      " block_3_expand_relu (ReLU)  (None, 56, 56, 144)          0         ['block_3_expand_BN[0][0]']   \n",
      "                                                                                                  \n",
      " block_3_pad (ZeroPadding2D  (None, 57, 57, 144)          0         ['block_3_expand_relu[0][0]'] \n",
      " )                                                                                                \n",
      "                                                                                                  \n",
      " block_3_depthwise (Depthwi  (None, 28, 28, 144)          1296      ['block_3_pad[0][0]']         \n",
      " seConv2D)                                                                                        \n",
      "                                                                                                  \n",
      " block_3_depthwise_BN (Batc  (None, 28, 28, 144)          576       ['block_3_depthwise[0][0]']   \n",
      " hNormalization)                                                                                  \n",
      "                                                                                                  \n",
      " block_3_depthwise_relu (Re  (None, 28, 28, 144)          0         ['block_3_depthwise_BN[0][0]']\n",
      " LU)                                                                                              \n",
      "                                                                                                  \n",
      " block_3_project (Conv2D)    (None, 28, 28, 32)           4608      ['block_3_depthwise_relu[0][0]\n",
      "                                                                    ']                            \n",
      "                                                                                                  \n",
      " block_3_project_BN (BatchN  (None, 28, 28, 32)           128       ['block_3_project[0][0]']     \n",
      " ormalization)                                                                                    \n",
      "                                                                                                  \n",
      " block_4_expand (Conv2D)     (None, 28, 28, 192)          6144      ['block_3_project_BN[0][0]']  \n",
      "                                                                                                  \n",
      " block_4_expand_BN (BatchNo  (None, 28, 28, 192)          768       ['block_4_expand[0][0]']      \n",
      " rmalization)                                                                                     \n",
      "                                                                                                  \n",
      " block_4_expand_relu (ReLU)  (None, 28, 28, 192)          0         ['block_4_expand_BN[0][0]']   \n",
      "                                                                                                  \n",
      " block_4_depthwise (Depthwi  (None, 28, 28, 192)          1728      ['block_4_expand_relu[0][0]'] \n",
      " seConv2D)                                                                                        \n",
      "                                                                                                  \n",
      " block_4_depthwise_BN (Batc  (None, 28, 28, 192)          768       ['block_4_depthwise[0][0]']   \n",
      " hNormalization)                                                                                  \n",
      "                                                                                                  \n",
      " block_4_depthwise_relu (Re  (None, 28, 28, 192)          0         ['block_4_depthwise_BN[0][0]']\n",
      " LU)                                                                                              \n",
      "                                                                                                  \n",
      " block_4_project (Conv2D)    (None, 28, 28, 32)           6144      ['block_4_depthwise_relu[0][0]\n",
      "                                                                    ']                            \n",
      "                                                                                                  \n",
      " block_4_project_BN (BatchN  (None, 28, 28, 32)           128       ['block_4_project[0][0]']     \n",
      " ormalization)                                                                                    \n",
      "                                                                                                  \n",
      " block_4_add (Add)           (None, 28, 28, 32)           0         ['block_3_project_BN[0][0]',  \n",
      "                                                                     'block_4_project_BN[0][0]']  \n",
      "                                                                                                  \n",
      " block_5_expand (Conv2D)     (None, 28, 28, 192)          6144      ['block_4_add[0][0]']         \n",
      "                                                                                                  \n",
      " block_5_expand_BN (BatchNo  (None, 28, 28, 192)          768       ['block_5_expand[0][0]']      \n",
      " rmalization)                                                                                     \n",
      "                                                                                                  \n",
      " block_5_expand_relu (ReLU)  (None, 28, 28, 192)          0         ['block_5_expand_BN[0][0]']   \n",
      "                                                                                                  \n",
      " block_5_depthwise (Depthwi  (None, 28, 28, 192)          1728      ['block_5_expand_relu[0][0]'] \n",
      " seConv2D)                                                                                        \n",
      "                                                                                                  \n",
      " block_5_depthwise_BN (Batc  (None, 28, 28, 192)          768       ['block_5_depthwise[0][0]']   \n",
      " hNormalization)                                                                                  \n",
      "                                                                                                  \n",
      " block_5_depthwise_relu (Re  (None, 28, 28, 192)          0         ['block_5_depthwise_BN[0][0]']\n",
      " LU)                                                                                              \n",
      "                                                                                                  \n",
      " block_5_project (Conv2D)    (None, 28, 28, 32)           6144      ['block_5_depthwise_relu[0][0]\n",
      "                                                                    ']                            \n",
      "                                                                                                  \n",
      " block_5_project_BN (BatchN  (None, 28, 28, 32)           128       ['block_5_project[0][0]']     \n",
      " ormalization)                                                                                    \n",
      "                                                                                                  \n",
      " block_5_add (Add)           (None, 28, 28, 32)           0         ['block_4_add[0][0]',         \n",
      "                                                                     'block_5_project_BN[0][0]']  \n",
      "                                                                                                  \n",
      " block_6_expand (Conv2D)     (None, 28, 28, 192)          6144      ['block_5_add[0][0]']         \n",
      "                                                                                                  \n",
      " block_6_expand_BN (BatchNo  (None, 28, 28, 192)          768       ['block_6_expand[0][0]']      \n",
      " rmalization)                                                                                     \n",
      "                                                                                                  \n",
      " block_6_expand_relu (ReLU)  (None, 28, 28, 192)          0         ['block_6_expand_BN[0][0]']   \n",
      "                                                                                                  \n",
      " block_6_pad (ZeroPadding2D  (None, 29, 29, 192)          0         ['block_6_expand_relu[0][0]'] \n",
      " )                                                                                                \n",
      "                                                                                                  \n",
      " block_6_depthwise (Depthwi  (None, 14, 14, 192)          1728      ['block_6_pad[0][0]']         \n",
      " seConv2D)                                                                                        \n",
      "                                                                                                  \n",
      " block_6_depthwise_BN (Batc  (None, 14, 14, 192)          768       ['block_6_depthwise[0][0]']   \n",
      " hNormalization)                                                                                  \n",
      "                                                                                                  \n",
      " block_6_depthwise_relu (Re  (None, 14, 14, 192)          0         ['block_6_depthwise_BN[0][0]']\n",
      " LU)                                                                                              \n",
      "                                                                                                  \n",
      " block_6_project (Conv2D)    (None, 14, 14, 64)           12288     ['block_6_depthwise_relu[0][0]\n",
      "                                                                    ']                            \n",
      "                                                                                                  \n",
      " block_6_project_BN (BatchN  (None, 14, 14, 64)           256       ['block_6_project[0][0]']     \n",
      " ormalization)                                                                                    \n",
      "                                                                                                  \n",
      " block_7_expand (Conv2D)     (None, 14, 14, 384)          24576     ['block_6_project_BN[0][0]']  \n",
      "                                                                                                  \n",
      " block_7_expand_BN (BatchNo  (None, 14, 14, 384)          1536      ['block_7_expand[0][0]']      \n",
      " rmalization)                                                                                     \n",
      "                                                                                                  \n",
      " block_7_expand_relu (ReLU)  (None, 14, 14, 384)          0         ['block_7_expand_BN[0][0]']   \n",
      "                                                                                                  \n",
      " block_7_depthwise (Depthwi  (None, 14, 14, 384)          3456      ['block_7_expand_relu[0][0]'] \n",
      " seConv2D)                                                                                        \n",
      "                                                                                                  \n",
      " block_7_depthwise_BN (Batc  (None, 14, 14, 384)          1536      ['block_7_depthwise[0][0]']   \n",
      " hNormalization)                                                                                  \n",
      "                                                                                                  \n",
      " block_7_depthwise_relu (Re  (None, 14, 14, 384)          0         ['block_7_depthwise_BN[0][0]']\n",
      " LU)                                                                                              \n",
      "                                                                                                  \n",
      " block_7_project (Conv2D)    (None, 14, 14, 64)           24576     ['block_7_depthwise_relu[0][0]\n",
      "                                                                    ']                            \n",
      "                                                                                                  \n",
      " block_7_project_BN (BatchN  (None, 14, 14, 64)           256       ['block_7_project[0][0]']     \n",
      " ormalization)                                                                                    \n",
      "                                                                                                  \n",
      " block_7_add (Add)           (None, 14, 14, 64)           0         ['block_6_project_BN[0][0]',  \n",
      "                                                                     'block_7_project_BN[0][0]']  \n",
      "                                                                                                  \n",
      " block_8_expand (Conv2D)     (None, 14, 14, 384)          24576     ['block_7_add[0][0]']         \n",
      "                                                                                                  \n",
      " block_8_expand_BN (BatchNo  (None, 14, 14, 384)          1536      ['block_8_expand[0][0]']      \n",
      " rmalization)                                                                                     \n",
      "                                                                                                  \n",
      " block_8_expand_relu (ReLU)  (None, 14, 14, 384)          0         ['block_8_expand_BN[0][0]']   \n",
      "                                                                                                  \n",
      " block_8_depthwise (Depthwi  (None, 14, 14, 384)          3456      ['block_8_expand_relu[0][0]'] \n",
      " seConv2D)                                                                                        \n",
      "                                                                                                  \n",
      " block_8_depthwise_BN (Batc  (None, 14, 14, 384)          1536      ['block_8_depthwise[0][0]']   \n",
      " hNormalization)                                                                                  \n",
      "                                                                                                  \n",
      " block_8_depthwise_relu (Re  (None, 14, 14, 384)          0         ['block_8_depthwise_BN[0][0]']\n",
      " LU)                                                                                              \n",
      "                                                                                                  \n",
      " block_8_project (Conv2D)    (None, 14, 14, 64)           24576     ['block_8_depthwise_relu[0][0]\n",
      "                                                                    ']                            \n",
      "                                                                                                  \n",
      " block_8_project_BN (BatchN  (None, 14, 14, 64)           256       ['block_8_project[0][0]']     \n",
      " ormalization)                                                                                    \n",
      "                                                                                                  \n",
      " block_8_add (Add)           (None, 14, 14, 64)           0         ['block_7_add[0][0]',         \n",
      "                                                                     'block_8_project_BN[0][0]']  \n",
      "                                                                                                  \n",
      " block_9_expand (Conv2D)     (None, 14, 14, 384)          24576     ['block_8_add[0][0]']         \n",
      "                                                                                                  \n",
      " block_9_expand_BN (BatchNo  (None, 14, 14, 384)          1536      ['block_9_expand[0][0]']      \n",
      " rmalization)                                                                                     \n",
      "                                                                                                  \n",
      " block_9_expand_relu (ReLU)  (None, 14, 14, 384)          0         ['block_9_expand_BN[0][0]']   \n",
      "                                                                                                  \n",
      " block_9_depthwise (Depthwi  (None, 14, 14, 384)          3456      ['block_9_expand_relu[0][0]'] \n",
      " seConv2D)                                                                                        \n",
      "                                                                                                  \n",
      " block_9_depthwise_BN (Batc  (None, 14, 14, 384)          1536      ['block_9_depthwise[0][0]']   \n",
      " hNormalization)                                                                                  \n",
      "                                                                                                  \n",
      " block_9_depthwise_relu (Re  (None, 14, 14, 384)          0         ['block_9_depthwise_BN[0][0]']\n",
      " LU)                                                                                              \n",
      "                                                                                                  \n",
      " block_9_project (Conv2D)    (None, 14, 14, 64)           24576     ['block_9_depthwise_relu[0][0]\n",
      "                                                                    ']                            \n",
      "                                                                                                  \n",
      " block_9_project_BN (BatchN  (None, 14, 14, 64)           256       ['block_9_project[0][0]']     \n",
      " ormalization)                                                                                    \n",
      "                                                                                                  \n",
      " block_9_add (Add)           (None, 14, 14, 64)           0         ['block_8_add[0][0]',         \n",
      "                                                                     'block_9_project_BN[0][0]']  \n",
      "                                                                                                  \n",
      " block_10_expand (Conv2D)    (None, 14, 14, 384)          24576     ['block_9_add[0][0]']         \n",
      "                                                                                                  \n",
      " block_10_expand_BN (BatchN  (None, 14, 14, 384)          1536      ['block_10_expand[0][0]']     \n",
      " ormalization)                                                                                    \n",
      "                                                                                                  \n",
      " block_10_expand_relu (ReLU  (None, 14, 14, 384)          0         ['block_10_expand_BN[0][0]']  \n",
      " )                                                                                                \n",
      "                                                                                                  \n",
      " block_10_depthwise (Depthw  (None, 14, 14, 384)          3456      ['block_10_expand_relu[0][0]']\n",
      " iseConv2D)                                                                                       \n",
      "                                                                                                  \n",
      " block_10_depthwise_BN (Bat  (None, 14, 14, 384)          1536      ['block_10_depthwise[0][0]']  \n",
      " chNormalization)                                                                                 \n",
      "                                                                                                  \n",
      " block_10_depthwise_relu (R  (None, 14, 14, 384)          0         ['block_10_depthwise_BN[0][0]'\n",
      " eLU)                                                               ]                             \n",
      "                                                                                                  \n",
      " block_10_project (Conv2D)   (None, 14, 14, 96)           36864     ['block_10_depthwise_relu[0][0\n",
      "                                                                    ]']                           \n",
      "                                                                                                  \n",
      " block_10_project_BN (Batch  (None, 14, 14, 96)           384       ['block_10_project[0][0]']    \n",
      " Normalization)                                                                                   \n",
      "                                                                                                  \n",
      " block_11_expand (Conv2D)    (None, 14, 14, 576)          55296     ['block_10_project_BN[0][0]'] \n",
      "                                                                                                  \n",
      " block_11_expand_BN (BatchN  (None, 14, 14, 576)          2304      ['block_11_expand[0][0]']     \n",
      " ormalization)                                                                                    \n",
      "                                                                                                  \n",
      " block_11_expand_relu (ReLU  (None, 14, 14, 576)          0         ['block_11_expand_BN[0][0]']  \n",
      " )                                                                                                \n",
      "                                                                                                  \n",
      " block_11_depthwise (Depthw  (None, 14, 14, 576)          5184      ['block_11_expand_relu[0][0]']\n",
      " iseConv2D)                                                                                       \n",
      "                                                                                                  \n",
      " block_11_depthwise_BN (Bat  (None, 14, 14, 576)          2304      ['block_11_depthwise[0][0]']  \n",
      " chNormalization)                                                                                 \n",
      "                                                                                                  \n",
      " block_11_depthwise_relu (R  (None, 14, 14, 576)          0         ['block_11_depthwise_BN[0][0]'\n",
      " eLU)                                                               ]                             \n",
      "                                                                                                  \n",
      " block_11_project (Conv2D)   (None, 14, 14, 96)           55296     ['block_11_depthwise_relu[0][0\n",
      "                                                                    ]']                           \n",
      "                                                                                                  \n",
      " block_11_project_BN (Batch  (None, 14, 14, 96)           384       ['block_11_project[0][0]']    \n",
      " Normalization)                                                                                   \n",
      "                                                                                                  \n",
      " block_11_add (Add)          (None, 14, 14, 96)           0         ['block_10_project_BN[0][0]', \n",
      "                                                                     'block_11_project_BN[0][0]'] \n",
      "                                                                                                  \n",
      " block_12_expand (Conv2D)    (None, 14, 14, 576)          55296     ['block_11_add[0][0]']        \n",
      "                                                                                                  \n",
      " block_12_expand_BN (BatchN  (None, 14, 14, 576)          2304      ['block_12_expand[0][0]']     \n",
      " ormalization)                                                                                    \n",
      "                                                                                                  \n",
      " block_12_expand_relu (ReLU  (None, 14, 14, 576)          0         ['block_12_expand_BN[0][0]']  \n",
      " )                                                                                                \n",
      "                                                                                                  \n",
      " block_12_depthwise (Depthw  (None, 14, 14, 576)          5184      ['block_12_expand_relu[0][0]']\n",
      " iseConv2D)                                                                                       \n",
      "                                                                                                  \n",
      " block_12_depthwise_BN (Bat  (None, 14, 14, 576)          2304      ['block_12_depthwise[0][0]']  \n",
      " chNormalization)                                                                                 \n",
      "                                                                                                  \n",
      " block_12_depthwise_relu (R  (None, 14, 14, 576)          0         ['block_12_depthwise_BN[0][0]'\n",
      " eLU)                                                               ]                             \n",
      "                                                                                                  \n",
      " block_12_project (Conv2D)   (None, 14, 14, 96)           55296     ['block_12_depthwise_relu[0][0\n",
      "                                                                    ]']                           \n",
      "                                                                                                  \n",
      " block_12_project_BN (Batch  (None, 14, 14, 96)           384       ['block_12_project[0][0]']    \n",
      " Normalization)                                                                                   \n",
      "                                                                                                  \n",
      " block_12_add (Add)          (None, 14, 14, 96)           0         ['block_11_add[0][0]',        \n",
      "                                                                     'block_12_project_BN[0][0]'] \n",
      "                                                                                                  \n",
      " block_13_expand (Conv2D)    (None, 14, 14, 576)          55296     ['block_12_add[0][0]']        \n",
      "                                                                                                  \n",
      " block_13_expand_BN (BatchN  (None, 14, 14, 576)          2304      ['block_13_expand[0][0]']     \n",
      " ormalization)                                                                                    \n",
      "                                                                                                  \n",
      " block_13_expand_relu (ReLU  (None, 14, 14, 576)          0         ['block_13_expand_BN[0][0]']  \n",
      " )                                                                                                \n",
      "                                                                                                  \n",
      " block_13_pad (ZeroPadding2  (None, 15, 15, 576)          0         ['block_13_expand_relu[0][0]']\n",
      " D)                                                                                               \n",
      "                                                                                                  \n",
      " block_13_depthwise (Depthw  (None, 7, 7, 576)            5184      ['block_13_pad[0][0]']        \n",
      " iseConv2D)                                                                                       \n",
      "                                                                                                  \n",
      " block_13_depthwise_BN (Bat  (None, 7, 7, 576)            2304      ['block_13_depthwise[0][0]']  \n",
      " chNormalization)                                                                                 \n",
      "                                                                                                  \n",
      " block_13_depthwise_relu (R  (None, 7, 7, 576)            0         ['block_13_depthwise_BN[0][0]'\n",
      " eLU)                                                               ]                             \n",
      "                                                                                                  \n",
      " block_13_project (Conv2D)   (None, 7, 7, 160)            92160     ['block_13_depthwise_relu[0][0\n",
      "                                                                    ]']                           \n",
      "                                                                                                  \n",
      " block_13_project_BN (Batch  (None, 7, 7, 160)            640       ['block_13_project[0][0]']    \n",
      " Normalization)                                                                                   \n",
      "                                                                                                  \n",
      " block_14_expand (Conv2D)    (None, 7, 7, 960)            153600    ['block_13_project_BN[0][0]'] \n",
      "                                                                                                  \n",
      " block_14_expand_BN (BatchN  (None, 7, 7, 960)            3840      ['block_14_expand[0][0]']     \n",
      " ormalization)                                                                                    \n",
      "                                                                                                  \n",
      " block_14_expand_relu (ReLU  (None, 7, 7, 960)            0         ['block_14_expand_BN[0][0]']  \n",
      " )                                                                                                \n",
      "                                                                                                  \n",
      " block_14_depthwise (Depthw  (None, 7, 7, 960)            8640      ['block_14_expand_relu[0][0]']\n",
      " iseConv2D)                                                                                       \n",
      "                                                                                                  \n",
      " block_14_depthwise_BN (Bat  (None, 7, 7, 960)            3840      ['block_14_depthwise[0][0]']  \n",
      " chNormalization)                                                                                 \n",
      "                                                                                                  \n",
      " block_14_depthwise_relu (R  (None, 7, 7, 960)            0         ['block_14_depthwise_BN[0][0]'\n",
      " eLU)                                                               ]                             \n",
      "                                                                                                  \n",
      " block_14_project (Conv2D)   (None, 7, 7, 160)            153600    ['block_14_depthwise_relu[0][0\n",
      "                                                                    ]']                           \n",
      "                                                                                                  \n",
      " block_14_project_BN (Batch  (None, 7, 7, 160)            640       ['block_14_project[0][0]']    \n",
      " Normalization)                                                                                   \n",
      "                                                                                                  \n",
      " block_14_add (Add)          (None, 7, 7, 160)            0         ['block_13_project_BN[0][0]', \n",
      "                                                                     'block_14_project_BN[0][0]'] \n",
      "                                                                                                  \n",
      " block_15_expand (Conv2D)    (None, 7, 7, 960)            153600    ['block_14_add[0][0]']        \n",
      "                                                                                                  \n",
      " block_15_expand_BN (BatchN  (None, 7, 7, 960)            3840      ['block_15_expand[0][0]']     \n",
      " ormalization)                                                                                    \n",
      "                                                                                                  \n",
      " block_15_expand_relu (ReLU  (None, 7, 7, 960)            0         ['block_15_expand_BN[0][0]']  \n",
      " )                                                                                                \n",
      "                                                                                                  \n",
      " block_15_depthwise (Depthw  (None, 7, 7, 960)            8640      ['block_15_expand_relu[0][0]']\n",
      " iseConv2D)                                                                                       \n",
      "                                                                                                  \n",
      " block_15_depthwise_BN (Bat  (None, 7, 7, 960)            3840      ['block_15_depthwise[0][0]']  \n",
      " chNormalization)                                                                                 \n",
      "                                                                                                  \n",
      " block_15_depthwise_relu (R  (None, 7, 7, 960)            0         ['block_15_depthwise_BN[0][0]'\n",
      " eLU)                                                               ]                             \n",
      "                                                                                                  \n",
      " block_15_project (Conv2D)   (None, 7, 7, 160)            153600    ['block_15_depthwise_relu[0][0\n",
      "                                                                    ]']                           \n",
      "                                                                                                  \n",
      " block_15_project_BN (Batch  (None, 7, 7, 160)            640       ['block_15_project[0][0]']    \n",
      " Normalization)                                                                                   \n",
      "                                                                                                  \n",
      " block_15_add (Add)          (None, 7, 7, 160)            0         ['block_14_add[0][0]',        \n",
      "                                                                     'block_15_project_BN[0][0]'] \n",
      "                                                                                                  \n",
      " block_16_expand (Conv2D)    (None, 7, 7, 960)            153600    ['block_15_add[0][0]']        \n",
      "                                                                                                  \n",
      " block_16_expand_BN (BatchN  (None, 7, 7, 960)            3840      ['block_16_expand[0][0]']     \n",
      " ormalization)                                                                                    \n",
      "                                                                                                  \n",
      " block_16_expand_relu (ReLU  (None, 7, 7, 960)            0         ['block_16_expand_BN[0][0]']  \n",
      " )                                                                                                \n",
      "                                                                                                  \n",
      " block_16_depthwise (Depthw  (None, 7, 7, 960)            8640      ['block_16_expand_relu[0][0]']\n",
      " iseConv2D)                                                                                       \n",
      "                                                                                                  \n",
      " block_16_depthwise_BN (Bat  (None, 7, 7, 960)            3840      ['block_16_depthwise[0][0]']  \n",
      " chNormalization)                                                                                 \n",
      "                                                                                                  \n",
      " block_16_depthwise_relu (R  (None, 7, 7, 960)            0         ['block_16_depthwise_BN[0][0]'\n",
      " eLU)                                                               ]                             \n",
      "                                                                                                  \n",
      " block_16_project (Conv2D)   (None, 7, 7, 320)            307200    ['block_16_depthwise_relu[0][0\n",
      "                                                                    ]']                           \n",
      "                                                                                                  \n",
      " block_16_project_BN (Batch  (None, 7, 7, 320)            1280      ['block_16_project[0][0]']    \n",
      " Normalization)                                                                                   \n",
      "                                                                                                  \n",
      " Conv_1 (Conv2D)             (None, 7, 7, 1280)           409600    ['block_16_project_BN[0][0]'] \n",
      "                                                                                                  \n",
      " Conv_1_bn (BatchNormalizat  (None, 7, 7, 1280)           5120      ['Conv_1[0][0]']              \n",
      " ion)                                                                                             \n",
      "                                                                                                  \n",
      " out_relu (ReLU)             (None, 7, 7, 1280)           0         ['Conv_1_bn[0][0]']           \n",
      "                                                                                                  \n",
      " global_average_pooling2d (  (None, 1280)                 0         ['out_relu[0][0]']            \n",
      " GlobalAveragePooling2D)                                                                          \n",
      "                                                                                                  \n",
      "==================================================================================================\n",
      "Total params: 2257984 (8.61 MB)\n",
      "Trainable params: 2223872 (8.48 MB)\n",
      "Non-trainable params: 34112 (133.25 KB)\n",
      "__________________________________________________________________________________________________\n"
     ]
    }
   ],
   "source": [
    "# Affichage du résumé du nouveau modèle \n",
    "new_model.summary()"
   ]
  },
  {
   "cell_type": "markdown",
   "metadata": {},
   "source": [
    "**Tous les workeurs doivent pouvoir accéder au modèle ainsi qu'à ses poids. Une bonne pratique consiste à charger le modèle sur le driver puis à diffuser ensuite les poids aux différents workeurs.**"
   ]
  },
  {
   "cell_type": "code",
   "execution_count": 13,
   "metadata": {},
   "outputs": [],
   "source": [
    "# Diffusion des poids du modèle aux nœuds du cluster Spark\n",
    "# La fonction broadcast permet de distribuer efficacement des variables aux travailleurs du cluster Spark.\n",
    "broadcast_weights = sc.broadcast(new_model.get_weights())\n"
   ]
  },
  {
   "cell_type": "markdown",
   "metadata": {},
   "source": [
    "#### <font color = \"#5DoD6E\">  **3. Processus de chargement des images et application de leur featurisation à travers l'utilisation de pandas UDF**"
   ]
  },
  {
   "cell_type": "markdown",
   "metadata": {},
   "source": [
    "**Création d'un nouveau modèle basé sur MobileNetV2 avec des poids pré-entraînés.**"
   ]
  },
  {
   "cell_type": "code",
   "execution_count": 14,
   "metadata": {},
   "outputs": [],
   "source": [
    "def model_fn():\n",
    "    \"\"\"\n",
    "    Fonction pour créer un nouveau modèle basé sur MobileNetV2 avec des poids pré-entrainés.\n",
    "\n",
    "    Returns:\n",
    "    - new_model (keras.Model): Un modèle basé sur MobileNetV2 avec les poids pré-entrainés.\n",
    "    \"\"\"\n",
    "\n",
    "    # Chargement du modèle MobileNetV2 pré-entrainé sur ImageNet. Le modèle complet est chargé avec toutes ses couches.\n",
    "    model = MobileNetV2(weights='imagenet',\n",
    "                        include_top=True,\n",
    "                        input_shape=(224, 224, 3))\n",
    "\n",
    "    # Désactivation de l'entraînement pour toutes les couches du modèle. Ceci est fait pour geler les poids du modèle pré-entrainé afin de les conserver.\n",
    "    for layer in model.layers:\n",
    "        layer.trainable = False\n",
    "\n",
    "    # Création d'un nouveau modèle en excluant la dernière couche fully connected (FC). Cela permet d'obtenir un modèle sans la couche de prédiction d'ImageNet.\n",
    "    new_model = Model(inputs=model.input,\n",
    "                      outputs=model.layers[-2].output)\n",
    "\n",
    "    # Initialisation des poids du nouveau modèle avec les poids diffusés\n",
    "    new_model.set_weights(broadcast_weights.value)\n",
    "\n",
    "    return new_model"
   ]
  },
  {
   "cell_type": "code",
   "execution_count": 15,
   "metadata": {},
   "outputs": [],
   "source": [
    "def preprocess(content):\n",
    "    \"\"\"\n",
    "    Fonction de prétraitement pour convertir le contenu d'une image en tableau d'entrée pour le modèle.\n",
    "\n",
    "    Args:\n",
    "    - content (bytes): Contenu de l'image en format binaire.\n",
    "\n",
    "    Returns:\n",
    "    - arr (numpy.ndarray): Tableau d'entrée prétraité pour le modèle.\n",
    "    \"\"\"\n",
    "    # Ouverture de l'image, redimensionnement et conversion en tableau\n",
    "    img = Image.open(io.BytesIO(content)).resize([224, 224])\n",
    "    arr = img_to_array(img)\n",
    "    # Prétraitement spécifique à MobileNetV2\n",
    "    return preprocess_input(arr)"
   ]
  },
  {
   "cell_type": "code",
   "execution_count": 16,
   "metadata": {},
   "outputs": [],
   "source": [
    "def featurize_series(model, content_series):\n",
    "    \"\"\"\n",
    "    Fonction pour extraire les caractéristiques (features) à partir d'une série de contenus d'images.\n",
    "\n",
    "    Args:\n",
    "    - model (keras.Model): Modèle utilisé pour l'extraction des caractéristiques.\n",
    "    - content_series (pandas.Series): Série de contenus d'images.\n",
    "\n",
    "    Returns:\n",
    "    - pd.Series: Série de caractéristiques extraites.\n",
    "    \"\"\"\n",
    "    # Prétraitement des images dans la série\n",
    "    input = np.stack(content_series.map(preprocess))\n",
    "    # Prédiction des caractéristiques à l'aide du modèle\n",
    "    preds = model.predict(input)\n",
    "    # Aplatir les caractéristiques pour un stockage plus facile dans les DataFrames Spark\n",
    "    output = [p.flatten() for p in preds]\n",
    "    return pd.Series(output)"
   ]
  },
  {
   "cell_type": "code",
   "execution_count": 17,
   "metadata": {},
   "outputs": [
    {
     "name": "stderr",
     "output_type": "stream",
     "text": [
      "c:\\Users\\alain\\AppData\\Local\\Programs\\Python\\Python311\\Lib\\site-packages\\pyspark\\sql\\pandas\\functions.py:407: UserWarning: In Python 3.6+ and Spark 3.0+, it is preferred to specify type hints for pandas UDF instead of specifying pandas UDF type which will be deprecated in the future releases. See SPARK-28264 for more details.\n",
      "  warnings.warn(\n"
     ]
    }
   ],
   "source": [
    "@pandas_udf('array<float>', PandasUDFType.SCALAR_ITER)\n",
    "def featurize_udf(content_series_iter):\n",
    "    \"\"\"\n",
    "    Fonction UDF Pandas pour extraire les caractéristiques d'un lot de contenus d'images.\n",
    "\n",
    "    Args:\n",
    "    - content_series_iter: Itérateur de séries de contenus d'images.\n",
    "\n",
    "    Yields:\n",
    "    - pd.Series: Série de caractéristiques extraites.\n",
    "    \"\"\"\n",
    "    # Chargement du modèle une seule fois pour amortir les frais généraux\n",
    "    model = model_fn()\n",
    "    for content_series in content_series_iter:\n",
    "        # Rendement des caractéristiques extraites pour chaque série de contenus\n",
    "        yield featurize_series(model, content_series)"
   ]
  },
  {
   "cell_type": "markdown",
   "metadata": {},
   "source": [
    "**Exécution des actions d'extraction de features**"
   ]
  },
  {
   "cell_type": "markdown",
   "metadata": {},
   "source": [
    "_**Remarque** : Les Pandas UDF, sur de grands enregistrements (par exemple, de très grandes images), peuvent rencontrer des erreurs de type Out Of Memory (OOM), pour eviter ce probléme on réduit la taille du lot Arrow via 'maxRecordsPerBatch'_"
   ]
  },
  {
   "cell_type": "code",
   "execution_count": 18,
   "metadata": {},
   "outputs": [],
   "source": [
    "# Limitation du nombre de lignes par lot lors de l'utilisation d'Arrow\n",
    "spark.conf.set(\"spark.sql.execution.arrow.maxRecordsPerBatch\", \"1024\")"
   ]
  },
  {
   "cell_type": "code",
   "execution_count": 19,
   "metadata": {},
   "outputs": [],
   "source": [
    "# Création d'un DataFrame de caractéristiques à partir des images\n",
    "features_df = (\n",
    "    images  # DataFrame contenant les informations sur les images\n",
    "    .repartition(20)  # Répartition des données en 20 partitions pour le traitement parallèle\n",
    "    .select(\n",
    "        col(\"path\"),  # Sélection de la colonne 'path' contenant les chemins des images\n",
    "        col(\"label\"),  # Sélection de la colonne 'label' contenant les libellés des images\n",
    "        featurize_udf(\"content\").alias(\"features\")  # Application de la fonction UDF pour extraire les caractéristiques\n",
    "    )\n",
    ")"
   ]
  },
  {
   "cell_type": "code",
   "execution_count": 20,
   "metadata": {},
   "outputs": [
    {
     "name": "stdout",
     "output_type": "stream",
     "text": [
      "+--------------------+--------------------+--------------------+\n",
      "|                path|               label|            features|\n",
      "+--------------------+--------------------+--------------------+\n",
      "|file:/C:/Users/al...|              pear_3|[1.0428792, 0.310...|\n",
      "|file:/C:/Users/al...|              pear_3|[1.0726149, 0.240...|\n",
      "|file:/C:/Users/al...|              pear_3|[0.68280464, 0.14...|\n",
      "|file:/C:/Users/al...|              pear_3|[0.5757859, 0.065...|\n",
      "|file:/C:/Users/al...|              pear_3|[0.1952559, 0.152...|\n",
      "|file:/C:/Users/al...|              pear_3|[0.14478278, 0.02...|\n",
      "|file:/C:/Users/al...|apple_red_delicios_1|[0.09588556, 0.0,...|\n",
      "|file:/C:/Users/al...|              pear_3|[0.26750854, 0.18...|\n",
      "|file:/C:/Users/al...|apple_red_delicios_1|[0.24852274, 0.12...|\n",
      "|file:/C:/Users/al...|apple_red_delicios_1|[0.36039332, 0.08...|\n",
      "+--------------------+--------------------+--------------------+\n",
      "only showing top 10 rows\n",
      "\n"
     ]
    }
   ],
   "source": [
    "features_df.show(10)"
   ]
  },
  {
   "cell_type": "markdown",
   "metadata": {},
   "source": [
    "#### <font color = \"#5DoD6E\">  **4. REDUCTION DE DIMENION (PCA)**"
   ]
  },
  {
   "cell_type": "markdown",
   "metadata": {},
   "source": [
    "Les features sont de type array, je les convertir en Type Vector."
   ]
  },
  {
   "cell_type": "code",
   "execution_count": 21,
   "metadata": {},
   "outputs": [],
   "source": [
    "#Construction d'une User defined Fonction qui transforme les listes de features en vecteurs denses.\n",
    "array_to_vector_udf = udf(lambda l: Vectors.dense(l), VectorUDT())"
   ]
  },
  {
   "cell_type": "code",
   "execution_count": 22,
   "metadata": {},
   "outputs": [],
   "source": [
    "# Création d'un DataFrame vectorisé à partir des caractéristiques extraites\n",
    "vectorized_df = features_df.withColumn('cnn_vectors', array_to_vector_udf('features'))"
   ]
  },
  {
   "cell_type": "code",
   "execution_count": 23,
   "metadata": {},
   "outputs": [
    {
     "name": "stdout",
     "output_type": "stream",
     "text": [
      "+--------------------+------+--------------------+--------------------+\n",
      "|                path| label|            features|         cnn_vectors|\n",
      "+--------------------+------+--------------------+--------------------+\n",
      "|file:/C:/Users/al...|pear_3|[1.0428792, 0.310...|[1.04287922382354...|\n",
      "|file:/C:/Users/al...|pear_3|[1.0726149, 0.240...|[1.07261490821838...|\n",
      "|file:/C:/Users/al...|pear_3|[0.68280464, 0.14...|[0.68280464410781...|\n",
      "|file:/C:/Users/al...|pear_3|[0.5757859, 0.065...|[0.57578587532043...|\n",
      "|file:/C:/Users/al...|pear_3|[0.1952559, 0.152...|[0.19525590538978...|\n",
      "|file:/C:/Users/al...|pear_3|[0.14478278, 0.02...|[0.14478278160095...|\n",
      "+--------------------+------+--------------------+--------------------+\n",
      "\n"
     ]
    }
   ],
   "source": [
    "vectorized_df.limit(6).show()"
   ]
  },
  {
   "cell_type": "markdown",
   "metadata": {},
   "source": [
    "**Recherche du nombre de composantes optimales via l'ACP**"
   ]
  },
  {
   "cell_type": "code",
   "execution_count": 24,
   "metadata": {},
   "outputs": [],
   "source": [
    "# Fonction pour réduction de dimensions PCA\n",
    "def reduc_dim_pca(features):\n",
    "    '''Réduction des dimensions PCA sur les feature\n",
    "    Entrée:\n",
    "    - features de l\\'image\n",
    "    \n",
    "    Retour:\n",
    "    - pca\n",
    "    - pca_matrix: résultat de la réduction de dimensions\n",
    "    '''\n",
    "    # Conversion d'un tableau (array) en vecteur dense\n",
    "    # Création d'un fonction utilisateur avec udf\n",
    "    #vector_dense = udf(lambda x: Vectors.dense(x), VectorUDT())\n",
    "    img_vd_df = features.select(\"path\",\"label\",\"cnn_vectors\")\n",
    "    \n",
    "    # PCA\n",
    "    pca_spark = PCA(inputCol=\"cnn_vectors\", outputCol=\"features_pca\", k=100)\n",
    "    pca = pca_spark.fit(img_vd_df)\n",
    "    pca_matrix = pca.transform(img_vd_df)\n",
    "    \n",
    "    return pca, pca_matrix"
   ]
  },
  {
   "cell_type": "code",
   "execution_count": 27,
   "metadata": {},
   "outputs": [],
   "source": [
    "# Appelle de la fonction pour la réduction de dimension PCA\n",
    "pca, pca_matrix = reduc_dim_pca(vectorized_df)\n"
   ]
  },
  {
   "cell_type": "code",
   "execution_count": 28,
   "metadata": {},
   "outputs": [
    {
     "name": "stdout",
     "output_type": "stream",
     "text": [
      "+--------------------+--------------------+--------------------+--------------------+\n",
      "|                path|               label|         cnn_vectors|        features_pca|\n",
      "+--------------------+--------------------+--------------------+--------------------+\n",
      "|file:/C:/Users/al...|              pear_3|[1.04287922382354...|[5.40511583360912...|\n",
      "|file:/C:/Users/al...|              pear_3|[1.07261490821838...|[6.05396928874009...|\n",
      "|file:/C:/Users/al...|              pear_3|[0.68280464410781...|[5.02777186981379...|\n",
      "|file:/C:/Users/al...|              pear_3|[0.57578587532043...|[1.07586124453899...|\n",
      "|file:/C:/Users/al...|              pear_3|[0.19525590538978...|[-0.1880234431689...|\n",
      "|file:/C:/Users/al...|              pear_3|[0.14478278160095...|[4.15989260392300...|\n",
      "|file:/C:/Users/al...|apple_red_delicios_1|[0.09588555991649...|[-6.1089727721663...|\n",
      "|file:/C:/Users/al...|              pear_3|[0.26750853657722...|[-0.3534779778654...|\n",
      "|file:/C:/Users/al...|apple_red_delicios_1|[0.24852274358272...|[-8.5856215580343...|\n",
      "|file:/C:/Users/al...|apple_red_delicios_1|[0.36039331555366...|[-12.371037363424...|\n",
      "|file:/C:/Users/al...|apple_red_delicios_1|[1.67726659774780...|[-11.434673850174...|\n",
      "|file:/C:/Users/al...|apple_red_delicios_1|[1.05110335350036...|[-13.619026399722...|\n",
      "|file:/C:/Users/al...|apple_red_delicios_1|[0.45902299880981...|[-12.400346225285...|\n",
      "|file:/C:/Users/al...|apple_red_delicios_1|[0.87935125827789...|[-15.045295122597...|\n",
      "|file:/C:/Users/al...|apple_red_delicios_1|[0.39198979735374...|[-11.869115099386...|\n",
      "|file:/C:/Users/al...|apple_red_delicios_1|[0.23120008409023...|[-13.216202482642...|\n",
      "|file:/C:/Users/al...|apple_red_delicios_1|[0.57539868354797...|[-12.715042858241...|\n",
      "|file:/C:/Users/al...|apple_red_delicios_1|[0.56139773130416...|[-12.479629797395...|\n",
      "|file:/C:/Users/al...|apple_red_delicios_1|[0.59640359878540...|[-13.806386269689...|\n",
      "|file:/C:/Users/al...|apple_red_delicios_1|[0.41407319903373...|[-11.384700287272...|\n",
      "+--------------------+--------------------+--------------------+--------------------+\n",
      "only showing top 20 rows\n",
      "\n"
     ]
    }
   ],
   "source": [
    "pca_matrix.show(20)"
   ]
  },
  {
   "cell_type": "code",
   "execution_count": 29,
   "metadata": {},
   "outputs": [],
   "source": [
    "# Fonction pour l'affichage du diagramme des éboulis PCA\n",
    "def display_pca_eboulis(pca):\n",
    "    '''Affichage du diagramme des éboulis sur PCA\n",
    "    Entrée:\n",
    "    - pca\n",
    "    \n",
    "    Retour:\n",
    "    - N/A\n",
    "    '''\n",
    "    # Variance expliquée\n",
    "    varexpl = pca.explainedVariance*100\n",
    "        \n",
    "    # Affichage de la variance cumulée\n",
    "    plt.figure(figsize=(11,7))\n",
    "    plt.bar(np.arange(len(varexpl))+1, varexpl)\n",
    "\n",
    "    cumSumVar = varexpl.cumsum()\n",
    "    plt.plot(np.arange(len(varexpl))+1, cumSumVar,c=\"red\",marker='o')\n",
    "    plt.axhline(y=90, linestyle=\"--\", \n",
    "                color=\"green\",\n",
    "                linewidth=1)\n",
    "\n",
    "    limit = 90\n",
    "    valid_idx = np.where(cumSumVar >= limit)[0]\n",
    "    min_plans = valid_idx[cumSumVar[valid_idx].argmin()]+1\n",
    "    plt.axvline(x=min_plans, linestyle=\"--\", \n",
    "                color=\"green\",\n",
    "                linewidth=1)\n",
    "\n",
    "    plt.xlabel(\"Rang de l'axe d'inertie pour les composantes K\")\n",
    "    plt.xticks(np.arange(0,105,5))\n",
    "    plt.xlim(left=0)\n",
    "    plt.ylabel(\"Pourcentage d'inertie\")\n",
    "    plt.title(\"{}% de la variance totale est expliquée\"\\\n",
    "                \" par les {} premiers axes\".format(limit,\n",
    "                                            min_plans))\n",
    "    plt.show(block=False)\n",
    "        \n",
    "    return None"
   ]
  },
  {
   "cell_type": "code",
   "execution_count": 30,
   "metadata": {},
   "outputs": [
    {
     "data": {
      "image/png": "[encoded data removed]",
      "text/plain": [
       "<Figure size 1100x700 with 1 Axes>"
      ]
     },
     "metadata": {},
     "output_type": "display_data"
    }
   ],
   "source": [
    "# Affichage du diagramme des éboulis\n",
    "display_pca_eboulis(pca)"
   ]
  },
  {
   "cell_type": "code",
   "execution_count": 31,
   "metadata": {},
   "outputs": [],
   "source": [
    "# Transformation inverse (de Vectors à Arrays)\n",
    "vector_to_array_udf = udf(lambda v: v.toArray().tolist(), ArrayType(FloatType()))"
   ]
  },
  {
   "cell_type": "code",
   "execution_count": 32,
   "metadata": {},
   "outputs": [],
   "source": [
    "final_df = pca_matrix.withColumn('features', vector_to_array_udf('features_pca'))"
   ]
  },
  {
   "cell_type": "code",
   "execution_count": 33,
   "metadata": {},
   "outputs": [
    {
     "name": "stdout",
     "output_type": "stream",
     "text": [
      "+--------------------+------+--------------------+--------------------+--------------------+\n",
      "|                path| label|         cnn_vectors|        features_pca|            features|\n",
      "+--------------------+------+--------------------+--------------------+--------------------+\n",
      "|file:/C:/Users/al...|pear_3|[1.04287922382354...|[5.40511583360912...|[5.4051156, 7.183...|\n",
      "|file:/C:/Users/al...|pear_3|[1.07261490821838...|[6.05396928874009...|[6.0539694, 6.859...|\n",
      "|file:/C:/Users/al...|pear_3|[0.68280464410781...|[5.02777186981379...|[5.027772, 6.9215...|\n",
      "|file:/C:/Users/al...|pear_3|[0.57578587532043...|[1.07586124453899...|[1.0758612, 8.035...|\n",
      "|file:/C:/Users/al...|pear_3|[0.19525590538978...|[-0.1880234431689...|[-0.18802345, 8.6...|\n",
      "|file:/C:/Users/al...|pear_3|[0.14478278160095...|[4.15989260392300...|[4.1598926, 6.956...|\n",
      "+--------------------+------+--------------------+--------------------+--------------------+\n",
      "only showing top 6 rows\n",
      "\n"
     ]
    }
   ],
   "source": [
    "final_df.show(6, True)"
   ]
  },
  {
   "cell_type": "markdown",
   "metadata": {},
   "source": [
    "**Enregistrement des données traitées au format \"parquet\"**"
   ]
  },
  {
   "cell_type": "code",
   "execution_count": 34,
   "metadata": {},
   "outputs": [],
   "source": [
    "# Enregistrement des données (format parquet)\n",
    "final_df.write.mode('overwrite').parquet(PATH_Result)"
   ]
  },
  {
   "cell_type": "markdown",
   "metadata": {},
   "source": [
    "**Chargement des données enregistrées et validation du résultat**"
   ]
  },
  {
   "cell_type": "code",
   "execution_count": 35,
   "metadata": {},
   "outputs": [],
   "source": [
    "df = pd.read_parquet(PATH_Result, engine='pyarrow')"
   ]
  },
  {
   "cell_type": "code",
   "execution_count": 36,
   "metadata": {},
   "outputs": [
    {
     "data": {
      "text/html": [
       "<div>\n",
       "<style scoped>\n",
       "    .dataframe tbody tr th:only-of-type {\n",
       "        vertical-align: middle;\n",
       "    }\n",
       "\n",
       "    .dataframe tbody tr th {\n",
       "        vertical-align: top;\n",
       "    }\n",
       "\n",
       "    .dataframe thead th {\n",
       "        text-align: right;\n",
       "    }\n",
       "</style>\n",
       "<table border=\"1\" class=\"dataframe\">\n",
       "  <thead>\n",
       "    <tr style=\"text-align: right;\">\n",
       "      <th></th>\n",
       "      <th>path</th>\n",
       "      <th>label</th>\n",
       "      <th>cnn_vectors</th>\n",
       "      <th>features_pca</th>\n",
       "      <th>features</th>\n",
       "    </tr>\n",
       "  </thead>\n",
       "  <tbody>\n",
       "    <tr>\n",
       "      <th>0</th>\n",
       "      <td>file:/C:/Users/alain/OneDrive/Documents/Format...</td>\n",
       "      <td>pear_3</td>\n",
       "      <td>{'type': 1, 'size': None, 'indices': None, 'va...</td>\n",
       "      <td>{'type': 1, 'size': None, 'indices': None, 'va...</td>\n",
       "      <td>[5.4051156, 7.1830473, 0.44904786, 19.976051, ...</td>\n",
       "    </tr>\n",
       "    <tr>\n",
       "      <th>1</th>\n",
       "      <td>file:/C:/Users/alain/OneDrive/Documents/Format...</td>\n",
       "      <td>pear_3</td>\n",
       "      <td>{'type': 1, 'size': None, 'indices': None, 'va...</td>\n",
       "      <td>{'type': 1, 'size': None, 'indices': None, 'va...</td>\n",
       "      <td>[6.0539694, 6.8592887, 1.4605814, 18.879694, -...</td>\n",
       "    </tr>\n",
       "    <tr>\n",
       "      <th>2</th>\n",
       "      <td>file:/C:/Users/alain/OneDrive/Documents/Format...</td>\n",
       "      <td>pear_3</td>\n",
       "      <td>{'type': 1, 'size': None, 'indices': None, 'va...</td>\n",
       "      <td>{'type': 1, 'size': None, 'indices': None, 'va...</td>\n",
       "      <td>[5.027772, 6.9215565, 1.6539627, 18.330875, -0...</td>\n",
       "    </tr>\n",
       "    <tr>\n",
       "      <th>3</th>\n",
       "      <td>file:/C:/Users/alain/OneDrive/Documents/Format...</td>\n",
       "      <td>pear_3</td>\n",
       "      <td>{'type': 1, 'size': None, 'indices': None, 'va...</td>\n",
       "      <td>{'type': 1, 'size': None, 'indices': None, 'va...</td>\n",
       "      <td>[1.0758612, 8.035203, 3.1161194, 15.167354, -4...</td>\n",
       "    </tr>\n",
       "    <tr>\n",
       "      <th>4</th>\n",
       "      <td>file:/C:/Users/alain/OneDrive/Documents/Format...</td>\n",
       "      <td>pear_3</td>\n",
       "      <td>{'type': 1, 'size': None, 'indices': None, 'va...</td>\n",
       "      <td>{'type': 1, 'size': None, 'indices': None, 'va...</td>\n",
       "      <td>[-0.18802345, 8.618432, 2.631305, 12.940316, -...</td>\n",
       "    </tr>\n",
       "    <tr>\n",
       "      <th>...</th>\n",
       "      <td>...</td>\n",
       "      <td>...</td>\n",
       "      <td>...</td>\n",
       "      <td>...</td>\n",
       "      <td>...</td>\n",
       "    </tr>\n",
       "    <tr>\n",
       "      <th>1375</th>\n",
       "      <td>file:/C:/Users/alain/OneDrive/Documents/Format...</td>\n",
       "      <td>apple_6</td>\n",
       "      <td>{'type': 1, 'size': None, 'indices': None, 'va...</td>\n",
       "      <td>{'type': 1, 'size': None, 'indices': None, 'va...</td>\n",
       "      <td>[-0.36410218, 15.81337, -5.6720376, 4.299677, ...</td>\n",
       "    </tr>\n",
       "    <tr>\n",
       "      <th>1376</th>\n",
       "      <td>file:/C:/Users/alain/OneDrive/Documents/Format...</td>\n",
       "      <td>apple_6</td>\n",
       "      <td>{'type': 1, 'size': None, 'indices': None, 'va...</td>\n",
       "      <td>{'type': 1, 'size': None, 'indices': None, 'va...</td>\n",
       "      <td>[-1.9880258, 16.53656, -5.3062186, 3.434158, -...</td>\n",
       "    </tr>\n",
       "    <tr>\n",
       "      <th>1377</th>\n",
       "      <td>file:/C:/Users/alain/OneDrive/Documents/Format...</td>\n",
       "      <td>apple_6</td>\n",
       "      <td>{'type': 1, 'size': None, 'indices': None, 'va...</td>\n",
       "      <td>{'type': 1, 'size': None, 'indices': None, 'va...</td>\n",
       "      <td>[-1.4048449, 15.619354, -4.4052153, 3.997469, ...</td>\n",
       "    </tr>\n",
       "    <tr>\n",
       "      <th>1378</th>\n",
       "      <td>file:/C:/Users/alain/OneDrive/Documents/Format...</td>\n",
       "      <td>apple_6</td>\n",
       "      <td>{'type': 1, 'size': None, 'indices': None, 'va...</td>\n",
       "      <td>{'type': 1, 'size': None, 'indices': None, 'va...</td>\n",
       "      <td>[-0.033618003, 14.356378, -4.9591737, 2.346966...</td>\n",
       "    </tr>\n",
       "    <tr>\n",
       "      <th>1379</th>\n",
       "      <td>file:/C:/Users/alain/OneDrive/Documents/Format...</td>\n",
       "      <td>apple_6</td>\n",
       "      <td>{'type': 1, 'size': None, 'indices': None, 'va...</td>\n",
       "      <td>{'type': 1, 'size': None, 'indices': None, 'va...</td>\n",
       "      <td>[-0.19934128, 13.949236, -3.3333664, 3.1850238...</td>\n",
       "    </tr>\n",
       "  </tbody>\n",
       "</table>\n",
       "<p>1380 rows × 5 columns</p>\n",
       "</div>"
      ],
      "text/plain": [
       "                                                   path    label  \\\n",
       "0     file:/C:/Users/alain/OneDrive/Documents/Format...   pear_3   \n",
       "1     file:/C:/Users/alain/OneDrive/Documents/Format...   pear_3   \n",
       "2     file:/C:/Users/alain/OneDrive/Documents/Format...   pear_3   \n",
       "3     file:/C:/Users/alain/OneDrive/Documents/Format...   pear_3   \n",
       "4     file:/C:/Users/alain/OneDrive/Documents/Format...   pear_3   \n",
       "...                                                 ...      ...   \n",
       "1375  file:/C:/Users/alain/OneDrive/Documents/Format...  apple_6   \n",
       "1376  file:/C:/Users/alain/OneDrive/Documents/Format...  apple_6   \n",
       "1377  file:/C:/Users/alain/OneDrive/Documents/Format...  apple_6   \n",
       "1378  file:/C:/Users/alain/OneDrive/Documents/Format...  apple_6   \n",
       "1379  file:/C:/Users/alain/OneDrive/Documents/Format...  apple_6   \n",
       "\n",
       "                                            cnn_vectors  \\\n",
       "0     {'type': 1, 'size': None, 'indices': None, 'va...   \n",
       "1     {'type': 1, 'size': None, 'indices': None, 'va...   \n",
       "2     {'type': 1, 'size': None, 'indices': None, 'va...   \n",
       "3     {'type': 1, 'size': None, 'indices': None, 'va...   \n",
       "4     {'type': 1, 'size': None, 'indices': None, 'va...   \n",
       "...                                                 ...   \n",
       "1375  {'type': 1, 'size': None, 'indices': None, 'va...   \n",
       "1376  {'type': 1, 'size': None, 'indices': None, 'va...   \n",
       "1377  {'type': 1, 'size': None, 'indices': None, 'va...   \n",
       "1378  {'type': 1, 'size': None, 'indices': None, 'va...   \n",
       "1379  {'type': 1, 'size': None, 'indices': None, 'va...   \n",
       "\n",
       "                                           features_pca  \\\n",
       "0     {'type': 1, 'size': None, 'indices': None, 'va...   \n",
       "1     {'type': 1, 'size': None, 'indices': None, 'va...   \n",
       "2     {'type': 1, 'size': None, 'indices': None, 'va...   \n",
       "3     {'type': 1, 'size': None, 'indices': None, 'va...   \n",
       "4     {'type': 1, 'size': None, 'indices': None, 'va...   \n",
       "...                                                 ...   \n",
       "1375  {'type': 1, 'size': None, 'indices': None, 'va...   \n",
       "1376  {'type': 1, 'size': None, 'indices': None, 'va...   \n",
       "1377  {'type': 1, 'size': None, 'indices': None, 'va...   \n",
       "1378  {'type': 1, 'size': None, 'indices': None, 'va...   \n",
       "1379  {'type': 1, 'size': None, 'indices': None, 'va...   \n",
       "\n",
       "                                               features  \n",
       "0     [5.4051156, 7.1830473, 0.44904786, 19.976051, ...  \n",
       "1     [6.0539694, 6.8592887, 1.4605814, 18.879694, -...  \n",
       "2     [5.027772, 6.9215565, 1.6539627, 18.330875, -0...  \n",
       "3     [1.0758612, 8.035203, 3.1161194, 15.167354, -4...  \n",
       "4     [-0.18802345, 8.618432, 2.631305, 12.940316, -...  \n",
       "...                                                 ...  \n",
       "1375  [-0.36410218, 15.81337, -5.6720376, 4.299677, ...  \n",
       "1376  [-1.9880258, 16.53656, -5.3062186, 3.434158, -...  \n",
       "1377  [-1.4048449, 15.619354, -4.4052153, 3.997469, ...  \n",
       "1378  [-0.033618003, 14.356378, -4.9591737, 2.346966...  \n",
       "1379  [-0.19934128, 13.949236, -3.3333664, 3.1850238...  \n",
       "\n",
       "[1380 rows x 5 columns]"
      ]
     },
     "execution_count": 36,
     "metadata": {},
     "output_type": "execute_result"
    }
   ],
   "source": [
    "df"
   ]
  },
  {
   "cell_type": "code",
   "execution_count": 39,
   "metadata": {},
   "outputs": [],
   "source": [
    "# Enregistrement du dataframe df au format csv\n",
    "df.to_csv('data_pca.csv', index=False)"
   ]
  },
  {
   "cell_type": "markdown",
   "metadata": {},
   "source": [
    "### Arrêt de la session Spark\n",
    "Arrêt de la session Spark pour permettre la libération des ressources (mémoire Java, processeur,...)."
   ]
  },
  {
   "cell_type": "code",
   "execution_count": 37,
   "metadata": {},
   "outputs": [],
   "source": [
    "# Arrêt de la session Spark\n",
    "spark.stop()"
   ]
  }
 ],
 "metadata": {
  "kernelspec": {
   "display_name": "Python 3 (ipykernel)",
   "language": "python",
   "name": "python3"
  },
  "language_info": {
   "codemirror_mode": {
    "name": "ipython",
    "version": 3
   },
   "file_extension": ".py",
   "mimetype": "text/x-python",
   "name": "python",
   "nbconvert_exporter": "python",
   "pygments_lexer": "ipython3",
   "version": "3.11.6"
  }
 },
 "nbformat": 4,
 "nbformat_minor": 2
}
